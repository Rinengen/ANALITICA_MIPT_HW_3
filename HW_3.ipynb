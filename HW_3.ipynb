{
    "cells": [
        {
            "cell_type": "code",
            "execution_count": 108,
            "metadata": {},
            "outputs": [],
            "source": [
                "import glob\n",
                "import sqlite3\n",
                "import pandasql\n",
                "import matplotlib.pyplot as plt\n",
                "import numpy as np\n",
                "import pandas as pd\n",
                "import seaborn as sns\n",
                "from scipy import stats"
            ]
        },
        {
            "cell_type": "code",
            "execution_count": 109,
            "metadata": {},
            "outputs": [
                {
                    "data": {
                        "text/plain": [
                            "['tennis_atp\\\\atp_matches_1968.csv',\n",
                            " 'tennis_atp\\\\atp_matches_1969.csv',\n",
                            " 'tennis_atp\\\\atp_matches_1970.csv',\n",
                            " 'tennis_atp\\\\atp_matches_1971.csv',\n",
                            " 'tennis_atp\\\\atp_matches_1972.csv',\n",
                            " 'tennis_atp\\\\atp_matches_1973.csv',\n",
                            " 'tennis_atp\\\\atp_matches_1974.csv',\n",
                            " 'tennis_atp\\\\atp_matches_1975.csv',\n",
                            " 'tennis_atp\\\\atp_matches_1976.csv',\n",
                            " 'tennis_atp\\\\atp_matches_1977.csv',\n",
                            " 'tennis_atp\\\\atp_matches_1978.csv',\n",
                            " 'tennis_atp\\\\atp_matches_1979.csv',\n",
                            " 'tennis_atp\\\\atp_matches_1980.csv',\n",
                            " 'tennis_atp\\\\atp_matches_1981.csv',\n",
                            " 'tennis_atp\\\\atp_matches_1982.csv',\n",
                            " 'tennis_atp\\\\atp_matches_1983.csv',\n",
                            " 'tennis_atp\\\\atp_matches_1984.csv',\n",
                            " 'tennis_atp\\\\atp_matches_1985.csv',\n",
                            " 'tennis_atp\\\\atp_matches_1986.csv',\n",
                            " 'tennis_atp\\\\atp_matches_1987.csv',\n",
                            " 'tennis_atp\\\\atp_matches_1988.csv',\n",
                            " 'tennis_atp\\\\atp_matches_1989.csv',\n",
                            " 'tennis_atp\\\\atp_matches_1990.csv',\n",
                            " 'tennis_atp\\\\atp_matches_1991.csv',\n",
                            " 'tennis_atp\\\\atp_matches_1992.csv',\n",
                            " 'tennis_atp\\\\atp_matches_1993.csv',\n",
                            " 'tennis_atp\\\\atp_matches_1994.csv',\n",
                            " 'tennis_atp\\\\atp_matches_1995.csv',\n",
                            " 'tennis_atp\\\\atp_matches_1996.csv',\n",
                            " 'tennis_atp\\\\atp_matches_1997.csv',\n",
                            " 'tennis_atp\\\\atp_matches_1998.csv',\n",
                            " 'tennis_atp\\\\atp_matches_1999.csv',\n",
                            " 'tennis_atp\\\\atp_matches_2000.csv',\n",
                            " 'tennis_atp\\\\atp_matches_2001.csv',\n",
                            " 'tennis_atp\\\\atp_matches_2002.csv',\n",
                            " 'tennis_atp\\\\atp_matches_2003.csv',\n",
                            " 'tennis_atp\\\\atp_matches_2004.csv',\n",
                            " 'tennis_atp\\\\atp_matches_2005.csv',\n",
                            " 'tennis_atp\\\\atp_matches_2006.csv',\n",
                            " 'tennis_atp\\\\atp_matches_2007.csv',\n",
                            " 'tennis_atp\\\\atp_matches_2008.csv',\n",
                            " 'tennis_atp\\\\atp_matches_2009.csv',\n",
                            " 'tennis_atp\\\\atp_matches_2010.csv',\n",
                            " 'tennis_atp\\\\atp_matches_2011.csv',\n",
                            " 'tennis_atp\\\\atp_matches_2012.csv',\n",
                            " 'tennis_atp\\\\atp_matches_2013.csv',\n",
                            " 'tennis_atp\\\\atp_matches_2014.csv',\n",
                            " 'tennis_atp\\\\atp_matches_2015.csv',\n",
                            " 'tennis_atp\\\\atp_matches_2016.csv',\n",
                            " 'tennis_atp\\\\atp_matches_2017.csv',\n",
                            " 'tennis_atp\\\\atp_matches_2018.csv',\n",
                            " 'tennis_atp\\\\atp_matches_2019.csv',\n",
                            " 'tennis_atp\\\\atp_matches_2020.csv',\n",
                            " 'tennis_atp\\\\atp_matches_2021.csv',\n",
                            " 'tennis_atp\\\\atp_matches_2022.csv']"
                        ]
                    },
                    "execution_count": 109,
                    "metadata": {},
                    "output_type": "execute_result"
                }
            ],
            "source": [
                "tennis_date = !git clone https://github.com/JeffSackmann/tennis_atp\n",
                "glob.glob(\"tennis_atp/atp_matches_[0123456789]*\")"
            ]
        },
        {
            "cell_type": "code",
            "execution_count": 110,
            "metadata": {},
            "outputs": [
                {
                    "name": "stdout",
                    "output_type": "stream",
                    "text": [
                        "<class 'pandas.core.frame.DataFrame'>\n",
                        "Int64Index: 142226 entries, 0 to 2915\n",
                        "Data columns (total 49 columns):\n",
                        " #   Column              Non-Null Count   Dtype  \n",
                        "---  ------              --------------   -----  \n",
                        " 0   tourney_id          142226 non-null  object \n",
                        " 1   tourney_name        142226 non-null  object \n",
                        " 2   surface             142199 non-null  object \n",
                        " 3   draw_size           142226 non-null  int64  \n",
                        " 4   tourney_level       142226 non-null  object \n",
                        " 5   tourney_date        142226 non-null  int64  \n",
                        " 6   match_num           142226 non-null  int64  \n",
                        " 7   winner_id           142226 non-null  int64  \n",
                        " 8   winner_seed         58505 non-null   object \n",
                        " 9   winner_entry        15558 non-null   object \n",
                        " 10  winner_name         142226 non-null  object \n",
                        " 11  winner_hand         142215 non-null  object \n",
                        " 12  winner_ht           138262 non-null  float64\n",
                        " 13  winner_ioc          142226 non-null  object \n",
                        " 14  winner_age          142088 non-null  float64\n",
                        " 15  loser_id            142226 non-null  int64  \n",
                        " 16  loser_seed          31011 non-null   object \n",
                        " 17  loser_entry         26110 non-null   object \n",
                        " 18  loser_name          142226 non-null  object \n",
                        " 19  loser_hand          142182 non-null  object \n",
                        " 20  loser_ht            133964 non-null  float64\n",
                        " 21  loser_ioc           142226 non-null  object \n",
                        " 22  loser_age           141685 non-null  float64\n",
                        " 23  score               142220 non-null  object \n",
                        " 24  best_of             142226 non-null  int64  \n",
                        " 25  round               142226 non-null  object \n",
                        " 26  minutes             89507 non-null   float64\n",
                        " 27  w_ace               92098 non-null   float64\n",
                        " 28  w_df                92098 non-null   float64\n",
                        " 29  w_svpt              92098 non-null   float64\n",
                        " 30  w_1stIn             92098 non-null   float64\n",
                        " 31  w_1stWon            92098 non-null   float64\n",
                        " 32  w_2ndWon            92098 non-null   float64\n",
                        " 33  w_SvGms             92099 non-null   float64\n",
                        " 34  w_bpSaved           92098 non-null   float64\n",
                        " 35  w_bpFaced           92098 non-null   float64\n",
                        " 36  l_ace               92098 non-null   float64\n",
                        " 37  l_df                92098 non-null   float64\n",
                        " 38  l_svpt              92098 non-null   float64\n",
                        " 39  l_1stIn             92098 non-null   float64\n",
                        " 40  l_1stWon            92098 non-null   float64\n",
                        " 41  l_2ndWon            92098 non-null   float64\n",
                        " 42  l_SvGms             92099 non-null   float64\n",
                        " 43  l_bpSaved           92098 non-null   float64\n",
                        " 44  l_bpFaced           92098 non-null   float64\n",
                        " 45  winner_rank         135792 non-null  float64\n",
                        " 46  winner_rank_points  103702 non-null  float64\n",
                        " 47  loser_rank          130929 non-null  float64\n",
                        " 48  loser_rank_points   102337 non-null  float64\n",
                        "dtypes: float64(27), int64(6), object(16)\n",
                        "memory usage: 54.3+ MB\n"
                    ]
                }
            ],
            "source": [
                "atp_matches = pd.concat(\n",
                "    [pd.read_csv(i) for i in glob.glob(\"tennis_atp/atp_matches_[12][019][01298]*\")],\n",
                "    axis=0,\n",
                ")\n",
                "\n",
                "atp_matches.info()"
            ]
        },
        {
            "cell_type": "code",
            "execution_count": 111,
            "metadata": {},
            "outputs": [
                {
                    "data": {
                        "text/plain": [
                            "winner_entry          89.061072\n",
                            "loser_entry           81.641894\n",
                            "loser_seed            78.195970\n",
                            "winner_seed           58.864765\n",
                            "minutes               37.067062\n",
                            "w_1stWon              35.245314\n",
                            "w_ace                 35.245314\n",
                            "w_bpFaced             35.245314\n",
                            "w_bpSaved             35.245314\n",
                            "w_2ndWon              35.245314\n",
                            "w_1stIn               35.245314\n",
                            "w_svpt                35.245314\n",
                            "w_df                  35.245314\n",
                            "l_svpt                35.245314\n",
                            "l_df                  35.245314\n",
                            "l_1stIn               35.245314\n",
                            "l_1stWon              35.245314\n",
                            "l_2ndWon              35.245314\n",
                            "l_bpSaved             35.245314\n",
                            "l_bpFaced             35.245314\n",
                            "l_ace                 35.245314\n",
                            "l_SvGms               35.244611\n",
                            "w_SvGms               35.244611\n",
                            "loser_rank_points     28.046208\n",
                            "winner_rank_points    27.086468\n",
                            "loser_rank             7.942992\n",
                            "loser_ht               5.809064\n",
                            "winner_rank            4.523786\n",
                            "winner_ht              2.787113\n",
                            "loser_age              0.380381\n",
                            "winner_age             0.097029\n",
                            "loser_hand             0.030937\n",
                            "surface                0.018984\n",
                            "winner_hand            0.007734\n",
                            "score                  0.004219\n",
                            "dtype: float64"
                        ]
                    },
                    "metadata": {},
                    "output_type": "display_data"
                }
            ],
            "source": [
                "cols_null_percent = atp_matches.isnull().mean() * 100\n",
                "cols_with_null = cols_null_percent[cols_null_percent>0].sort_values(ascending=False)\n",
                "display(cols_with_null)"
            ]
        },
        {
            "cell_type": "code",
            "execution_count": 112,
            "metadata": {},
            "outputs": [],
            "source": [
                "n = atp_matches.shape[0] \n",
                "thresh1 = n*0.64\n",
                "atp_matches = atp_matches.dropna( thresh=thresh1, axis=1)\n",
                "\n",
                "m = atp_matches.shape[1]\n",
                "atp_matches = atp_matches.dropna( thresh=m-2, axis=0)"
            ]
        },
        {
            "cell_type": "code",
            "execution_count": 113,
            "metadata": {},
            "outputs": [
                {
                    "data": {
                        "text/plain": [
                            "loser_rank_points     1.312867\n",
                            "winner_rank_points    1.150664\n",
                            "loser_ht              0.898106\n",
                            "loser_rank            0.301546\n",
                            "winner_ht             0.187241\n",
                            "winner_rank           0.142608\n",
                            "loser_age             0.010886\n",
                            "loser_hand            0.004354\n",
                            "winner_hand           0.001089\n",
                            "dtype: float64"
                        ]
                    },
                    "metadata": {},
                    "output_type": "display_data"
                }
            ],
            "source": [
                "cols_null_percent = atp_matches.isnull().mean() * 100\n",
                "cols_with_null = cols_null_percent[cols_null_percent>0].sort_values(ascending=False)\n",
                "display(cols_with_null)"
            ]
        },
        {
            "cell_type": "code",
            "execution_count": 114,
            "metadata": {},
            "outputs": [],
            "source": [
                "atp_matches['winner_rank'] = atp_matches['winner_rank'].fillna(\n",
                "    atp_matches['winner_rank'].median()\n",
                ")"
            ]
        },
        {
            "cell_type": "code",
            "execution_count": 115,
            "metadata": {},
            "outputs": [
                {
                    "data": {
                        "text/plain": [
                            "0"
                        ]
                    },
                    "execution_count": 115,
                    "metadata": {},
                    "output_type": "execute_result"
                }
            ],
            "source": [
                "atp_matches['winner_rank'].isna().sum()"
            ]
        },
        {
            "attachments": {},
            "cell_type": "markdown",
            "metadata": {},
            "source": [
                "#https://docs.scipy.org/doc/scipy/reference/generated/scipy.stats.shapiro.html"
            ]
        },
        {
            "cell_type": "code",
            "execution_count": 116,
            "metadata": {},
            "outputs": [
                {
                    "name": "stderr",
                    "output_type": "stream",
                    "text": [
                        "c:\\Users\\rinen\\AppData\\Local\\Programs\\Python\\Python39\\lib\\site-packages\\scipy\\stats\\_morestats.py:1800: UserWarning: p-value may not be accurate for N > 5000.\n",
                        "  warnings.warn(\"p-value may not be accurate for N > 5000.\")\n"
                    ]
                },
                {
                    "data": {
                        "text/plain": [
                            "ShapiroResult(statistic=0.6009070873260498, pvalue=0.0)"
                        ]
                    },
                    "execution_count": 116,
                    "metadata": {},
                    "output_type": "execute_result"
                }
            ],
            "source": [
                "stats.shapiro(atp_matches['winner_rank'])"
            ]
        },
        {
            "attachments": {},
            "cell_type": "markdown",
            "metadata": {},
            "source": [
                "https://docs.scipy.org/doc/scipy/reference/generated/scipy.stats.normaltest.html?highlight=normalt#scipy.stats.normaltest"
            ]
        },
        {
            "cell_type": "code",
            "execution_count": 117,
            "metadata": {},
            "outputs": [
                {
                    "data": {
                        "text/plain": [
                            "NormaltestResult(statistic=102195.81771324863, pvalue=0.0)"
                        ]
                    },
                    "execution_count": 117,
                    "metadata": {},
                    "output_type": "execute_result"
                }
            ],
            "source": [
                "stats.normaltest(atp_matches['winner_rank'])"
            ]
        },
        {
            "cell_type": "code",
            "execution_count": 119,
            "metadata": {},
            "outputs": [
                {
                    "data": {
                        "text/plain": [
                            "((array([-4.32735117, -4.1277583 , -4.01916863, ...,  4.01916863,\n",
                            "          4.1277583 ,  4.32735117]),\n",
                            "  array([0.69314718, 0.69314718, 0.69314718, ..., 7.4815557 , 7.50769008,\n",
                            "         7.54486107])),\n",
                            " (1.1226465611018173, 3.6215765351180242, 0.9872304981859976))"
                        ]
                    },
                    "execution_count": 119,
                    "metadata": {},
                    "output_type": "execute_result"
                },
                {
                    "data": {
                        "image/png": "[encoded data removed]",
                        "text/plain": [
                            "<Figure size 640x480 with 1 Axes>"
                        ]
                    },
                    "metadata": {},
                    "output_type": "display_data"
                }
            ],
            "source": [
                "fig, (ax1) = plt.subplots(1)\n",
                "fig.suptitle('QQ Plot', fontsize=18)\n",
                "stats.probplot(np.log1p(atp_matches['winner_rank']), dist=\"norm\", plot=ax1)"
            ]
        },
        {
            "cell_type": "code",
            "execution_count": 120,
            "metadata": {},
            "outputs": [
                {
                    "data": {
                        "text/plain": [
                            "count    91860.000000\n",
                            "mean        63.658502\n",
                            "std         81.375181\n",
                            "min          1.000000\n",
                            "25%         18.000000\n",
                            "50%         44.000000\n",
                            "75%         83.000000\n",
                            "max       1890.000000\n",
                            "Name: winner_rank, dtype: float64"
                        ]
                    },
                    "execution_count": 120,
                    "metadata": {},
                    "output_type": "execute_result"
                }
            ],
            "source": [
                "atp_matches['winner_rank'].describe()"
            ]
        },
        {
            "cell_type": "code",
            "execution_count": 121,
            "metadata": {},
            "outputs": [
                {
                    "data": {
                        "text/plain": [
                            "<AxesSubplot: >"
                        ]
                    },
                    "execution_count": 121,
                    "metadata": {},
                    "output_type": "execute_result"
                },
                {
                    "data": {
                        "image/png": "[encoded data removed]",
                        "text/plain": [
                            "<Figure size 640x480 with 1 Axes>"
                        ]
                    },
                    "metadata": {},
                    "output_type": "display_data"
                }
            ],
            "source": [
                "np.log(atp_matches['winner_rank']).hist()"
            ]
        },
        {
            "cell_type": "code",
            "execution_count": 122,
            "metadata": {},
            "outputs": [
                {
                    "data": {
                        "image/png": "[encoded data removed]",
                        "text/plain": [
                            "<Figure size 800x400 with 1 Axes>"
                        ]
                    },
                    "metadata": {},
                    "output_type": "display_data"
                }
            ],
            "source": [
                "fig, ax = plt.subplots(1, 1, figsize=(8, 4))\n",
                "log_winner = np.log(atp_matches['winner_rank'] + 1)\n",
                "histplot = sns.histplot(log_winner, bins=30, ax=ax)\n",
                "histplot.axvline(log_winner.mean(), color='k', lw=2)\n",
                "histplot.axvline(log_winner.mean()+ 3 * log_winner.std(), color='k', ls='--', lw=2)\n",
                "histplot.axvline(log_winner.mean()- 3 * log_winner.std(), color='k', ls='--', lw=2)\n",
                "histplot.set_title('Log WINNER_RANK');"
            ]
        },
        {
            "attachments": {},
            "cell_type": "markdown",
            "metadata": {},
            "source": [
                "    Все-таки распределение лого-нормальное, поэтому будем рассматривать параметрические тесты"
            ]
        },
        {
            "cell_type": "code",
            "execution_count": 123,
            "metadata": {},
            "outputs": [
                {
                    "data": {
                        "text/plain": [
                            "0     54.0\n",
                            "1    229.0\n",
                            "2     13.0\n",
                            "3     34.0\n",
                            "4     60.0\n",
                            "Name: diff_winner_rank, dtype: float64"
                        ]
                    },
                    "execution_count": 123,
                    "metadata": {},
                    "output_type": "execute_result"
                }
            ],
            "source": [
                "atp_matches['diff_winner_rank'] = abs(atp_matches['winner_rank'] - atp_matches['loser_rank'])\n",
                "atp_matches['diff_winner_rank'].head()"
            ]
        },
        {
            "cell_type": "code",
            "execution_count": 124,
            "metadata": {},
            "outputs": [
                {
                    "data": {
                        "text/plain": [
                            "((array([-4.25867305, -4.05601686, -3.94564695, ...,  3.94564695,\n",
                            "          4.05601686,  4.25867305]),\n",
                            "  array([0.        , 0.        , 0.        , ..., 7.48099216, 7.50714108,\n",
                            "         7.54433211])),\n",
                            " (1.2327457058524518, 3.6168028606939635, 0.9837857175418969))"
                        ]
                    },
                    "execution_count": 124,
                    "metadata": {},
                    "output_type": "execute_result"
                },
                {
                    "data": {
                        "image/png": "[encoded data removed]",
                        "text/plain": [
                            "<Figure size 640x480 with 1 Axes>"
                        ]
                    },
                    "metadata": {},
                    "output_type": "display_data"
                }
            ],
            "source": [
                "diff_rank_20 = pandasql.sqldf(\"\"\" \n",
                "    SELECT *\n",
                "    FROM atp_matches\n",
                "    WHERE diff_winner_rank > 20;\"\"\")\n",
                "\n",
                "\n",
                "fig, (ax1) = plt.subplots(1)\n",
                "fig.suptitle('QQ Plot', fontsize=18)\n",
                "stats.probplot(\n",
                "    np.log(diff_rank_20['winner_rank']), dist=\"norm\", plot=ax1\n",
                ")"
            ]
        },
        {
            "cell_type": "code",
            "execution_count": 125,
            "metadata": {},
            "outputs": [
                {
                    "data": {
                        "text/plain": [
                            "((array([-4.02344576, -3.80956001, -3.69261851, ...,  3.69261851,\n",
                            "          3.80956001,  4.02344576]),\n",
                            "  array([0.69314718, 0.69314718, 0.69314718, ..., 6.53233429, 6.88959131,\n",
                            "         7.19668657])),\n",
                            " (1.0036624970912391, 3.4623790439646234, 0.9681838077523915))"
                        ]
                    },
                    "execution_count": 125,
                    "metadata": {},
                    "output_type": "execute_result"
                },
                {
                    "data": {
                        "image/png": "[encoded data removed]",
                        "text/plain": [
                            "<Figure size 640x480 with 1 Axes>"
                        ]
                    },
                    "metadata": {},
                    "output_type": "display_data"
                }
            ],
            "source": [
                "diff_rank_less20 = pandasql.sqldf(\"\"\" \n",
                "    SELECT *\n",
                "    FROM atp_matches\n",
                "    WHERE diff_winner_rank <= 20;\"\"\")\n",
                "\n",
                "    \n",
                "fig, (ax1) = plt.subplots(1)\n",
                "fig.suptitle('QQ Plot', fontsize=18)\n",
                "stats.probplot(\n",
                "    np.log(diff_rank_less20['winner_rank']+1), dist=\"norm\", plot=ax1\n",
                ")"
            ]
        },
        {
            "attachments": {},
            "cell_type": "markdown",
            "metadata": {},
            "source": [
                "Т.К. распределение близко к нормальному (логонормальное),  мы переходим к параметрическим тестам для проверки нашей нулевой гипотезы. Мы сравниваем количественные переменные, значит используем тест на сравнение выборок. Групп для сравнения всего две, и объектов в каждой выборке >= 30. Нужно использовать Z-тест, но так как мы не знаем дисперсию и среднее отклоенение, то используем T-тест."
            ]
        },
        {
            "cell_type": "code",
            "execution_count": 126,
            "metadata": {},
            "outputs": [],
            "source": [
                "H0 = 'Шанс выиграша равен независимо от Ранга'\n",
                "H1 = 'Больший ранг влияет на результат выигрыша'"
            ]
        },
        {
            "attachments": {},
            "cell_type": "markdown",
            "metadata": {},
            "source": [
                "#https://docs.scipy.org/doc/scipy/reference/generated/scipy.stats.ttest_ind.html"
            ]
        },
        {
            "cell_type": "code",
            "execution_count": 127,
            "metadata": {},
            "outputs": [
                {
                    "data": {
                        "text/plain": [
                            "Ttest_indResult(statistic=37.71396273928608, pvalue=6.990511919309364e-309)"
                        ]
                    },
                    "execution_count": 127,
                    "metadata": {},
                    "output_type": "execute_result"
                }
            ],
            "source": [
                "stats.ttest_ind(diff_rank_20['winner_rank'],diff_rank_less20['winner_rank'], equal_var=True)"
            ]
        },
        {
            "attachments": {},
            "cell_type": "markdown",
            "metadata": {},
            "source": [
                "Мы видим, что p-value сильно ниже 0.05 => мы отвергаем Н0 (нулевую гипотезу)"
            ]
        },
        {
            "attachments": {},
            "cell_type": "markdown",
            "metadata": {},
            "source": [
                "    Теперь разберемся с игроками в диапозоне +/- 5 ранга."
            ]
        },
        {
            "cell_type": "code",
            "execution_count": 128,
            "metadata": {},
            "outputs": [
                {
                    "data": {
                        "text/html": [
                            "<div>\n",
                            "<style scoped>\n",
                            "    .dataframe tbody tr th:only-of-type {\n",
                            "        vertical-align: middle;\n",
                            "    }\n",
                            "\n",
                            "    .dataframe tbody tr th {\n",
                            "        vertical-align: top;\n",
                            "    }\n",
                            "\n",
                            "    .dataframe thead th {\n",
                            "        text-align: right;\n",
                            "    }\n",
                            "</style>\n",
                            "<table border=\"1\" class=\"dataframe\">\n",
                            "  <thead>\n",
                            "    <tr style=\"text-align: right;\">\n",
                            "      <th></th>\n",
                            "      <th>index</th>\n",
                            "      <th>tourney_id</th>\n",
                            "      <th>tourney_name</th>\n",
                            "      <th>surface</th>\n",
                            "      <th>draw_size</th>\n",
                            "      <th>tourney_level</th>\n",
                            "      <th>tourney_date</th>\n",
                            "      <th>match_num</th>\n",
                            "      <th>winner_id</th>\n",
                            "      <th>winner_name</th>\n",
                            "      <th>...</th>\n",
                            "      <th>l_1stWon</th>\n",
                            "      <th>l_2ndWon</th>\n",
                            "      <th>l_SvGms</th>\n",
                            "      <th>l_bpSaved</th>\n",
                            "      <th>l_bpFaced</th>\n",
                            "      <th>winner_rank</th>\n",
                            "      <th>winner_rank_points</th>\n",
                            "      <th>loser_rank</th>\n",
                            "      <th>loser_rank_points</th>\n",
                            "      <th>diff_winner_rank</th>\n",
                            "    </tr>\n",
                            "  </thead>\n",
                            "  <tbody>\n",
                            "    <tr>\n",
                            "      <th>0</th>\n",
                            "      <td>5</td>\n",
                            "      <td>1991-339</td>\n",
                            "      <td>Adelaide</td>\n",
                            "      <td>Hard</td>\n",
                            "      <td>32</td>\n",
                            "      <td>A</td>\n",
                            "      <td>19901231</td>\n",
                            "      <td>6</td>\n",
                            "      <td>102148</td>\n",
                            "      <td>Fabrice Santoro</td>\n",
                            "      <td>...</td>\n",
                            "      <td>20.0</td>\n",
                            "      <td>8.0</td>\n",
                            "      <td>9.0</td>\n",
                            "      <td>10.0</td>\n",
                            "      <td>16.0</td>\n",
                            "      <td>62.0</td>\n",
                            "      <td>NaN</td>\n",
                            "      <td>59.0</td>\n",
                            "      <td>NaN</td>\n",
                            "      <td>3.0</td>\n",
                            "    </tr>\n",
                            "    <tr>\n",
                            "      <th>1</th>\n",
                            "      <td>28</td>\n",
                            "      <td>1991-339</td>\n",
                            "      <td>Adelaide</td>\n",
                            "      <td>Hard</td>\n",
                            "      <td>32</td>\n",
                            "      <td>A</td>\n",
                            "      <td>19901231</td>\n",
                            "      <td>29</td>\n",
                            "      <td>101900</td>\n",
                            "      <td>Nicklas Kulti</td>\n",
                            "      <td>...</td>\n",
                            "      <td>24.0</td>\n",
                            "      <td>13.0</td>\n",
                            "      <td>11.0</td>\n",
                            "      <td>3.0</td>\n",
                            "      <td>7.0</td>\n",
                            "      <td>51.0</td>\n",
                            "      <td>NaN</td>\n",
                            "      <td>56.0</td>\n",
                            "      <td>NaN</td>\n",
                            "      <td>5.0</td>\n",
                            "    </tr>\n",
                            "    <tr>\n",
                            "      <th>2</th>\n",
                            "      <td>32</td>\n",
                            "      <td>1991-354</td>\n",
                            "      <td>Wellington</td>\n",
                            "      <td>Hard</td>\n",
                            "      <td>32</td>\n",
                            "      <td>A</td>\n",
                            "      <td>19901231</td>\n",
                            "      <td>2</td>\n",
                            "      <td>101265</td>\n",
                            "      <td>Patrick McEnroe</td>\n",
                            "      <td>...</td>\n",
                            "      <td>22.0</td>\n",
                            "      <td>8.0</td>\n",
                            "      <td>8.0</td>\n",
                            "      <td>6.0</td>\n",
                            "      <td>11.0</td>\n",
                            "      <td>120.0</td>\n",
                            "      <td>NaN</td>\n",
                            "      <td>123.0</td>\n",
                            "      <td>NaN</td>\n",
                            "      <td>3.0</td>\n",
                            "    </tr>\n",
                            "    <tr>\n",
                            "      <th>3</th>\n",
                            "      <td>44</td>\n",
                            "      <td>1991-354</td>\n",
                            "      <td>Wellington</td>\n",
                            "      <td>Hard</td>\n",
                            "      <td>32</td>\n",
                            "      <td>A</td>\n",
                            "      <td>19901231</td>\n",
                            "      <td>14</td>\n",
                            "      <td>101354</td>\n",
                            "      <td>Andrew Sznajder</td>\n",
                            "      <td>...</td>\n",
                            "      <td>20.0</td>\n",
                            "      <td>10.0</td>\n",
                            "      <td>10.0</td>\n",
                            "      <td>1.0</td>\n",
                            "      <td>5.0</td>\n",
                            "      <td>104.0</td>\n",
                            "      <td>NaN</td>\n",
                            "      <td>107.0</td>\n",
                            "      <td>NaN</td>\n",
                            "      <td>3.0</td>\n",
                            "    </tr>\n",
                            "    <tr>\n",
                            "      <th>4</th>\n",
                            "      <td>52</td>\n",
                            "      <td>1991-354</td>\n",
                            "      <td>Wellington</td>\n",
                            "      <td>Hard</td>\n",
                            "      <td>32</td>\n",
                            "      <td>A</td>\n",
                            "      <td>19901231</td>\n",
                            "      <td>22</td>\n",
                            "      <td>100962</td>\n",
                            "      <td>Thomas Hogstedt</td>\n",
                            "      <td>...</td>\n",
                            "      <td>14.0</td>\n",
                            "      <td>15.0</td>\n",
                            "      <td>9.0</td>\n",
                            "      <td>2.0</td>\n",
                            "      <td>5.0</td>\n",
                            "      <td>91.0</td>\n",
                            "      <td>NaN</td>\n",
                            "      <td>89.0</td>\n",
                            "      <td>NaN</td>\n",
                            "      <td>2.0</td>\n",
                            "    </tr>\n",
                            "  </tbody>\n",
                            "</table>\n",
                            "<p>5 rows × 46 columns</p>\n",
                            "</div>"
                        ],
                        "text/plain": [
                            "   index tourney_id tourney_name surface  draw_size tourney_level  \\\n",
                            "0      5   1991-339     Adelaide    Hard         32             A   \n",
                            "1     28   1991-339     Adelaide    Hard         32             A   \n",
                            "2     32   1991-354   Wellington    Hard         32             A   \n",
                            "3     44   1991-354   Wellington    Hard         32             A   \n",
                            "4     52   1991-354   Wellington    Hard         32             A   \n",
                            "\n",
                            "   tourney_date  match_num  winner_id      winner_name  ... l_1stWon  \\\n",
                            "0      19901231          6     102148  Fabrice Santoro  ...     20.0   \n",
                            "1      19901231         29     101900    Nicklas Kulti  ...     24.0   \n",
                            "2      19901231          2     101265  Patrick McEnroe  ...     22.0   \n",
                            "3      19901231         14     101354  Andrew Sznajder  ...     20.0   \n",
                            "4      19901231         22     100962  Thomas Hogstedt  ...     14.0   \n",
                            "\n",
                            "   l_2ndWon l_SvGms  l_bpSaved  l_bpFaced winner_rank winner_rank_points  \\\n",
                            "0       8.0     9.0       10.0       16.0        62.0                NaN   \n",
                            "1      13.0    11.0        3.0        7.0        51.0                NaN   \n",
                            "2       8.0     8.0        6.0       11.0       120.0                NaN   \n",
                            "3      10.0    10.0        1.0        5.0       104.0                NaN   \n",
                            "4      15.0     9.0        2.0        5.0        91.0                NaN   \n",
                            "\n",
                            "   loser_rank loser_rank_points  diff_winner_rank  \n",
                            "0        59.0               NaN               3.0  \n",
                            "1        56.0               NaN               5.0  \n",
                            "2       123.0               NaN               3.0  \n",
                            "3       107.0               NaN               3.0  \n",
                            "4        89.0               NaN               2.0  \n",
                            "\n",
                            "[5 rows x 46 columns]"
                        ]
                    },
                    "execution_count": 128,
                    "metadata": {},
                    "output_type": "execute_result"
                }
            ],
            "source": [
                "diff_rank_5 = atp_matches[atp_matches['diff_winner_rank'] <=5]\n",
                "diff_rank_5 = diff_rank_5.reset_index()\n",
                "diff_rank_5.head()"
            ]
        },
        {
            "cell_type": "code",
            "execution_count": 129,
            "metadata": {},
            "outputs": [
                {
                    "data": {
                        "text/html": [
                            "<div>\n",
                            "<style scoped>\n",
                            "    .dataframe tbody tr th:only-of-type {\n",
                            "        vertical-align: middle;\n",
                            "    }\n",
                            "\n",
                            "    .dataframe tbody tr th {\n",
                            "        vertical-align: top;\n",
                            "    }\n",
                            "\n",
                            "    .dataframe thead th {\n",
                            "        text-align: right;\n",
                            "    }\n",
                            "</style>\n",
                            "<table border=\"1\" class=\"dataframe\">\n",
                            "  <thead>\n",
                            "    <tr style=\"text-align: right;\">\n",
                            "      <th></th>\n",
                            "      <th>index</th>\n",
                            "      <th>tourney_id</th>\n",
                            "      <th>tourney_name</th>\n",
                            "      <th>surface</th>\n",
                            "      <th>draw_size</th>\n",
                            "      <th>tourney_level</th>\n",
                            "      <th>tourney_date</th>\n",
                            "      <th>match_num</th>\n",
                            "      <th>winner_id</th>\n",
                            "      <th>winner_name</th>\n",
                            "      <th>...</th>\n",
                            "      <th>l_1stWon</th>\n",
                            "      <th>l_2ndWon</th>\n",
                            "      <th>l_SvGms</th>\n",
                            "      <th>l_bpSaved</th>\n",
                            "      <th>l_bpFaced</th>\n",
                            "      <th>winner_rank</th>\n",
                            "      <th>winner_rank_points</th>\n",
                            "      <th>loser_rank</th>\n",
                            "      <th>loser_rank_points</th>\n",
                            "      <th>diff_winner_rank</th>\n",
                            "    </tr>\n",
                            "  </thead>\n",
                            "  <tbody>\n",
                            "    <tr>\n",
                            "      <th>0</th>\n",
                            "      <td>0</td>\n",
                            "      <td>1991-339</td>\n",
                            "      <td>Adelaide</td>\n",
                            "      <td>Hard</td>\n",
                            "      <td>32</td>\n",
                            "      <td>A</td>\n",
                            "      <td>19901231</td>\n",
                            "      <td>1</td>\n",
                            "      <td>101723</td>\n",
                            "      <td>Magnus Larsson</td>\n",
                            "      <td>...</td>\n",
                            "      <td>44.0</td>\n",
                            "      <td>23.0</td>\n",
                            "      <td>16.0</td>\n",
                            "      <td>6.0</td>\n",
                            "      <td>8.0</td>\n",
                            "      <td>56.0</td>\n",
                            "      <td>NaN</td>\n",
                            "      <td>2.0</td>\n",
                            "      <td>NaN</td>\n",
                            "      <td>54.0</td>\n",
                            "    </tr>\n",
                            "    <tr>\n",
                            "      <th>1</th>\n",
                            "      <td>1</td>\n",
                            "      <td>1991-339</td>\n",
                            "      <td>Adelaide</td>\n",
                            "      <td>Hard</td>\n",
                            "      <td>32</td>\n",
                            "      <td>A</td>\n",
                            "      <td>19901231</td>\n",
                            "      <td>2</td>\n",
                            "      <td>100946</td>\n",
                            "      <td>Slobodan Zivojinovic</td>\n",
                            "      <td>...</td>\n",
                            "      <td>35.0</td>\n",
                            "      <td>27.0</td>\n",
                            "      <td>15.0</td>\n",
                            "      <td>1.0</td>\n",
                            "      <td>2.0</td>\n",
                            "      <td>304.0</td>\n",
                            "      <td>NaN</td>\n",
                            "      <td>75.0</td>\n",
                            "      <td>NaN</td>\n",
                            "      <td>229.0</td>\n",
                            "    </tr>\n",
                            "    <tr>\n",
                            "      <th>2</th>\n",
                            "      <td>2</td>\n",
                            "      <td>1991-339</td>\n",
                            "      <td>Adelaide</td>\n",
                            "      <td>Hard</td>\n",
                            "      <td>32</td>\n",
                            "      <td>A</td>\n",
                            "      <td>19901231</td>\n",
                            "      <td>3</td>\n",
                            "      <td>101234</td>\n",
                            "      <td>Patrik Kuhnen</td>\n",
                            "      <td>...</td>\n",
                            "      <td>22.0</td>\n",
                            "      <td>6.0</td>\n",
                            "      <td>8.0</td>\n",
                            "      <td>4.0</td>\n",
                            "      <td>8.0</td>\n",
                            "      <td>82.0</td>\n",
                            "      <td>NaN</td>\n",
                            "      <td>69.0</td>\n",
                            "      <td>NaN</td>\n",
                            "      <td>13.0</td>\n",
                            "    </tr>\n",
                            "    <tr>\n",
                            "      <th>3</th>\n",
                            "      <td>3</td>\n",
                            "      <td>1991-339</td>\n",
                            "      <td>Adelaide</td>\n",
                            "      <td>Hard</td>\n",
                            "      <td>32</td>\n",
                            "      <td>A</td>\n",
                            "      <td>19901231</td>\n",
                            "      <td>4</td>\n",
                            "      <td>101889</td>\n",
                            "      <td>Todd Woodbridge</td>\n",
                            "      <td>...</td>\n",
                            "      <td>30.0</td>\n",
                            "      <td>11.0</td>\n",
                            "      <td>10.0</td>\n",
                            "      <td>5.0</td>\n",
                            "      <td>8.0</td>\n",
                            "      <td>50.0</td>\n",
                            "      <td>NaN</td>\n",
                            "      <td>84.0</td>\n",
                            "      <td>NaN</td>\n",
                            "      <td>34.0</td>\n",
                            "    </tr>\n",
                            "    <tr>\n",
                            "      <th>4</th>\n",
                            "      <td>4</td>\n",
                            "      <td>1991-339</td>\n",
                            "      <td>Adelaide</td>\n",
                            "      <td>Hard</td>\n",
                            "      <td>32</td>\n",
                            "      <td>A</td>\n",
                            "      <td>19901231</td>\n",
                            "      <td>5</td>\n",
                            "      <td>101274</td>\n",
                            "      <td>Udo Riglewski</td>\n",
                            "      <td>...</td>\n",
                            "      <td>28.0</td>\n",
                            "      <td>15.0</td>\n",
                            "      <td>11.0</td>\n",
                            "      <td>4.0</td>\n",
                            "      <td>8.0</td>\n",
                            "      <td>88.0</td>\n",
                            "      <td>NaN</td>\n",
                            "      <td>28.0</td>\n",
                            "      <td>NaN</td>\n",
                            "      <td>60.0</td>\n",
                            "    </tr>\n",
                            "  </tbody>\n",
                            "</table>\n",
                            "<p>5 rows × 46 columns</p>\n",
                            "</div>"
                        ],
                        "text/plain": [
                            "   index tourney_id tourney_name surface  draw_size tourney_level  \\\n",
                            "0      0   1991-339     Adelaide    Hard         32             A   \n",
                            "1      1   1991-339     Adelaide    Hard         32             A   \n",
                            "2      2   1991-339     Adelaide    Hard         32             A   \n",
                            "3      3   1991-339     Adelaide    Hard         32             A   \n",
                            "4      4   1991-339     Adelaide    Hard         32             A   \n",
                            "\n",
                            "   tourney_date  match_num  winner_id           winner_name  ... l_1stWon  \\\n",
                            "0      19901231          1     101723        Magnus Larsson  ...     44.0   \n",
                            "1      19901231          2     100946  Slobodan Zivojinovic  ...     35.0   \n",
                            "2      19901231          3     101234         Patrik Kuhnen  ...     22.0   \n",
                            "3      19901231          4     101889       Todd Woodbridge  ...     30.0   \n",
                            "4      19901231          5     101274         Udo Riglewski  ...     28.0   \n",
                            "\n",
                            "   l_2ndWon l_SvGms  l_bpSaved  l_bpFaced winner_rank winner_rank_points  \\\n",
                            "0      23.0    16.0        6.0        8.0        56.0                NaN   \n",
                            "1      27.0    15.0        1.0        2.0       304.0                NaN   \n",
                            "2       6.0     8.0        4.0        8.0        82.0                NaN   \n",
                            "3      11.0    10.0        5.0        8.0        50.0                NaN   \n",
                            "4      15.0    11.0        4.0        8.0        88.0                NaN   \n",
                            "\n",
                            "   loser_rank loser_rank_points  diff_winner_rank  \n",
                            "0         2.0               NaN              54.0  \n",
                            "1        75.0               NaN             229.0  \n",
                            "2        69.0               NaN              13.0  \n",
                            "3        84.0               NaN              34.0  \n",
                            "4        28.0               NaN              60.0  \n",
                            "\n",
                            "[5 rows x 46 columns]"
                        ]
                    },
                    "execution_count": 129,
                    "metadata": {},
                    "output_type": "execute_result"
                }
            ],
            "source": [
                "diff_rank_greater5 = atp_matches[atp_matches['diff_winner_rank'] >5]\n",
                "diff_rank_greater5 = diff_rank_greater5.reset_index()\n",
                "diff_rank_greater5.head()"
            ]
        },
        {
            "cell_type": "code",
            "execution_count": 130,
            "metadata": {},
            "outputs": [
                {
                    "data": {
                        "text/plain": [
                            "Ttest_indResult(statistic=-20.489386817063547, pvalue=4.335325951249478e-93)"
                        ]
                    },
                    "execution_count": 130,
                    "metadata": {},
                    "output_type": "execute_result"
                }
            ],
            "source": [
                "stats.ttest_ind(\n",
                "    diff_rank_5['winner_rank'],diff_rank_greater5['winner_rank'], equal_var=True\n",
                ")"
            ]
        },
        {
            "attachments": {},
            "cell_type": "markdown",
            "metadata": {},
            "source": [
                "P-value меньше 0,05 => тоже отвергаем H0"
            ]
        },
        {
            "attachments": {},
            "cell_type": "markdown",
            "metadata": {},
            "source": [
                "      Правда ли, что среднее количество сетов, которое необходимо любому игроку для победы в матче, сокращается со временем?"
            ]
        },
        {
            "cell_type": "code",
            "execution_count": 131,
            "metadata": {},
            "outputs": [],
            "source": [
                "atp_matches[\"sets_num\"] = atp_matches[\"score\"].map(lambda x: len(x.split()))"
            ]
        },
        {
            "cell_type": "code",
            "execution_count": 132,
            "metadata": {},
            "outputs": [
                {
                    "data": {
                        "text/plain": [
                            "0"
                        ]
                    },
                    "execution_count": 132,
                    "metadata": {},
                    "output_type": "execute_result"
                }
            ],
            "source": [
                "atp_matches['sets_num'].isna().sum()"
            ]
        },
        {
            "cell_type": "code",
            "execution_count": 133,
            "metadata": {},
            "outputs": [
                {
                    "name": "stderr",
                    "output_type": "stream",
                    "text": [
                        "c:\\Users\\rinen\\AppData\\Local\\Programs\\Python\\Python39\\lib\\site-packages\\seaborn\\_decorators.py:36: FutureWarning: Pass the following variable as a keyword arg: x. From version 0.12, the only valid positional argument will be `data`, and passing other arguments without an explicit keyword will result in an error or misinterpretation.\n",
                        "  warnings.warn(\n"
                    ]
                },
                {
                    "data": {
                        "text/plain": [
                            "<AxesSubplot: xlabel='sets_num'>"
                        ]
                    },
                    "execution_count": 133,
                    "metadata": {},
                    "output_type": "execute_result"
                },
                {
                    "data": {
                        "image/png": "[encoded data removed]",
                        "text/plain": [
                            "<Figure size 640x480 with 1 Axes>"
                        ]
                    },
                    "metadata": {},
                    "output_type": "display_data"
                }
            ],
            "source": [
                "sns.boxplot(atp_matches['sets_num'])"
            ]
        },
        {
            "cell_type": "code",
            "execution_count": 134,
            "metadata": {},
            "outputs": [
                {
                    "data": {
                        "text/plain": [
                            "0   1990-12-31\n",
                            "1   1990-12-31\n",
                            "2   1990-12-31\n",
                            "3   1990-12-31\n",
                            "4   1990-12-31\n",
                            "Name: tourney_date, dtype: datetime64[ns]"
                        ]
                    },
                    "execution_count": 134,
                    "metadata": {},
                    "output_type": "execute_result"
                }
            ],
            "source": [
                "atp_matches['tourney_date'] = pd.to_datetime(atp_matches['tourney_date'], format='%Y%m%d')\n",
                "atp_matches[\"tourney_date\"].head()"
            ]
        },
        {
            "cell_type": "code",
            "execution_count": 135,
            "metadata": {},
            "outputs": [
                {
                    "data": {
                        "text/plain": [
                            "38"
                        ]
                    },
                    "execution_count": 135,
                    "metadata": {},
                    "output_type": "execute_result"
                }
            ],
            "source": [
                "atp_matches[atp_matches['sets_num'] == 6].shape[0]"
            ]
        },
        {
            "attachments": {},
            "cell_type": "markdown",
            "metadata": {},
            "source": [
                "По правилам должно быть не больше 5 сетов."
            ]
        },
        {
            "cell_type": "code",
            "execution_count": 136,
            "metadata": {},
            "outputs": [
                {
                    "data": {
                        "text/html": [
                            "<div>\n",
                            "<style scoped>\n",
                            "    .dataframe tbody tr th:only-of-type {\n",
                            "        vertical-align: middle;\n",
                            "    }\n",
                            "\n",
                            "    .dataframe tbody tr th {\n",
                            "        vertical-align: top;\n",
                            "    }\n",
                            "\n",
                            "    .dataframe thead th {\n",
                            "        text-align: right;\n",
                            "    }\n",
                            "</style>\n",
                            "<table border=\"1\" class=\"dataframe\">\n",
                            "  <thead>\n",
                            "    <tr style=\"text-align: right;\">\n",
                            "      <th></th>\n",
                            "      <th>tourney_id</th>\n",
                            "      <th>tourney_name</th>\n",
                            "      <th>surface</th>\n",
                            "      <th>draw_size</th>\n",
                            "      <th>tourney_level</th>\n",
                            "      <th>tourney_date</th>\n",
                            "      <th>match_num</th>\n",
                            "      <th>winner_id</th>\n",
                            "      <th>winner_name</th>\n",
                            "      <th>winner_hand</th>\n",
                            "      <th>...</th>\n",
                            "      <th>l_2ndWon</th>\n",
                            "      <th>l_SvGms</th>\n",
                            "      <th>l_bpSaved</th>\n",
                            "      <th>l_bpFaced</th>\n",
                            "      <th>winner_rank</th>\n",
                            "      <th>winner_rank_points</th>\n",
                            "      <th>loser_rank</th>\n",
                            "      <th>loser_rank_points</th>\n",
                            "      <th>diff_winner_rank</th>\n",
                            "      <th>sets_num</th>\n",
                            "    </tr>\n",
                            "  </thead>\n",
                            "  <tbody>\n",
                            "    <tr>\n",
                            "      <th>0</th>\n",
                            "      <td>1991-339</td>\n",
                            "      <td>Adelaide</td>\n",
                            "      <td>Hard</td>\n",
                            "      <td>32</td>\n",
                            "      <td>A</td>\n",
                            "      <td>1990-12-31</td>\n",
                            "      <td>1</td>\n",
                            "      <td>101723</td>\n",
                            "      <td>Magnus Larsson</td>\n",
                            "      <td>R</td>\n",
                            "      <td>...</td>\n",
                            "      <td>23.0</td>\n",
                            "      <td>16.0</td>\n",
                            "      <td>6.0</td>\n",
                            "      <td>8.0</td>\n",
                            "      <td>56.0</td>\n",
                            "      <td>NaN</td>\n",
                            "      <td>2.0</td>\n",
                            "      <td>NaN</td>\n",
                            "      <td>54.0</td>\n",
                            "      <td>3</td>\n",
                            "    </tr>\n",
                            "    <tr>\n",
                            "      <th>1</th>\n",
                            "      <td>1991-339</td>\n",
                            "      <td>Adelaide</td>\n",
                            "      <td>Hard</td>\n",
                            "      <td>32</td>\n",
                            "      <td>A</td>\n",
                            "      <td>1990-12-31</td>\n",
                            "      <td>2</td>\n",
                            "      <td>100946</td>\n",
                            "      <td>Slobodan Zivojinovic</td>\n",
                            "      <td>R</td>\n",
                            "      <td>...</td>\n",
                            "      <td>27.0</td>\n",
                            "      <td>15.0</td>\n",
                            "      <td>1.0</td>\n",
                            "      <td>2.0</td>\n",
                            "      <td>304.0</td>\n",
                            "      <td>NaN</td>\n",
                            "      <td>75.0</td>\n",
                            "      <td>NaN</td>\n",
                            "      <td>229.0</td>\n",
                            "      <td>3</td>\n",
                            "    </tr>\n",
                            "    <tr>\n",
                            "      <th>2</th>\n",
                            "      <td>1991-339</td>\n",
                            "      <td>Adelaide</td>\n",
                            "      <td>Hard</td>\n",
                            "      <td>32</td>\n",
                            "      <td>A</td>\n",
                            "      <td>1990-12-31</td>\n",
                            "      <td>3</td>\n",
                            "      <td>101234</td>\n",
                            "      <td>Patrik Kuhnen</td>\n",
                            "      <td>R</td>\n",
                            "      <td>...</td>\n",
                            "      <td>6.0</td>\n",
                            "      <td>8.0</td>\n",
                            "      <td>4.0</td>\n",
                            "      <td>8.0</td>\n",
                            "      <td>82.0</td>\n",
                            "      <td>NaN</td>\n",
                            "      <td>69.0</td>\n",
                            "      <td>NaN</td>\n",
                            "      <td>13.0</td>\n",
                            "      <td>2</td>\n",
                            "    </tr>\n",
                            "    <tr>\n",
                            "      <th>3</th>\n",
                            "      <td>1991-339</td>\n",
                            "      <td>Adelaide</td>\n",
                            "      <td>Hard</td>\n",
                            "      <td>32</td>\n",
                            "      <td>A</td>\n",
                            "      <td>1990-12-31</td>\n",
                            "      <td>4</td>\n",
                            "      <td>101889</td>\n",
                            "      <td>Todd Woodbridge</td>\n",
                            "      <td>R</td>\n",
                            "      <td>...</td>\n",
                            "      <td>11.0</td>\n",
                            "      <td>10.0</td>\n",
                            "      <td>5.0</td>\n",
                            "      <td>8.0</td>\n",
                            "      <td>50.0</td>\n",
                            "      <td>NaN</td>\n",
                            "      <td>84.0</td>\n",
                            "      <td>NaN</td>\n",
                            "      <td>34.0</td>\n",
                            "      <td>2</td>\n",
                            "    </tr>\n",
                            "    <tr>\n",
                            "      <th>4</th>\n",
                            "      <td>1991-339</td>\n",
                            "      <td>Adelaide</td>\n",
                            "      <td>Hard</td>\n",
                            "      <td>32</td>\n",
                            "      <td>A</td>\n",
                            "      <td>1990-12-31</td>\n",
                            "      <td>5</td>\n",
                            "      <td>101274</td>\n",
                            "      <td>Udo Riglewski</td>\n",
                            "      <td>R</td>\n",
                            "      <td>...</td>\n",
                            "      <td>15.0</td>\n",
                            "      <td>11.0</td>\n",
                            "      <td>4.0</td>\n",
                            "      <td>8.0</td>\n",
                            "      <td>88.0</td>\n",
                            "      <td>NaN</td>\n",
                            "      <td>28.0</td>\n",
                            "      <td>NaN</td>\n",
                            "      <td>60.0</td>\n",
                            "      <td>2</td>\n",
                            "    </tr>\n",
                            "  </tbody>\n",
                            "</table>\n",
                            "<p>5 rows × 46 columns</p>\n",
                            "</div>"
                        ],
                        "text/plain": [
                            "  tourney_id tourney_name surface  draw_size tourney_level tourney_date  \\\n",
                            "0   1991-339     Adelaide    Hard         32             A   1990-12-31   \n",
                            "1   1991-339     Adelaide    Hard         32             A   1990-12-31   \n",
                            "2   1991-339     Adelaide    Hard         32             A   1990-12-31   \n",
                            "3   1991-339     Adelaide    Hard         32             A   1990-12-31   \n",
                            "4   1991-339     Adelaide    Hard         32             A   1990-12-31   \n",
                            "\n",
                            "   match_num  winner_id           winner_name winner_hand  ...  l_2ndWon  \\\n",
                            "0          1     101723        Magnus Larsson           R  ...      23.0   \n",
                            "1          2     100946  Slobodan Zivojinovic           R  ...      27.0   \n",
                            "2          3     101234         Patrik Kuhnen           R  ...       6.0   \n",
                            "3          4     101889       Todd Woodbridge           R  ...      11.0   \n",
                            "4          5     101274         Udo Riglewski           R  ...      15.0   \n",
                            "\n",
                            "  l_SvGms  l_bpSaved  l_bpFaced winner_rank winner_rank_points  loser_rank  \\\n",
                            "0    16.0        6.0        8.0        56.0                NaN         2.0   \n",
                            "1    15.0        1.0        2.0       304.0                NaN        75.0   \n",
                            "2     8.0        4.0        8.0        82.0                NaN        69.0   \n",
                            "3    10.0        5.0        8.0        50.0                NaN        84.0   \n",
                            "4    11.0        4.0        8.0        88.0                NaN        28.0   \n",
                            "\n",
                            "  loser_rank_points  diff_winner_rank sets_num  \n",
                            "0               NaN              54.0        3  \n",
                            "1               NaN             229.0        3  \n",
                            "2               NaN              13.0        2  \n",
                            "3               NaN              34.0        2  \n",
                            "4               NaN              60.0        2  \n",
                            "\n",
                            "[5 rows x 46 columns]"
                        ]
                    },
                    "execution_count": 136,
                    "metadata": {},
                    "output_type": "execute_result"
                }
            ],
            "source": [
                "mask_set = atp_matches[atp_matches['sets_num'] != 6]\n",
                "mask_set.head()"
            ]
        },
        {
            "cell_type": "code",
            "execution_count": 137,
            "metadata": {},
            "outputs": [
                {
                    "name": "stderr",
                    "output_type": "stream",
                    "text": [
                        "c:\\Users\\rinen\\AppData\\Local\\Programs\\Python\\Python39\\lib\\site-packages\\seaborn\\_decorators.py:36: FutureWarning: Pass the following variable as a keyword arg: x. From version 0.12, the only valid positional argument will be `data`, and passing other arguments without an explicit keyword will result in an error or misinterpretation.\n",
                        "  warnings.warn(\n"
                    ]
                },
                {
                    "data": {
                        "text/plain": [
                            "<AxesSubplot: xlabel='sets_num'>"
                        ]
                    },
                    "execution_count": 137,
                    "metadata": {},
                    "output_type": "execute_result"
                },
                {
                    "data": {
                        "image/png": "[encoded data removed]",
                        "text/plain": [
                            "<Figure size 640x480 with 1 Axes>"
                        ]
                    },
                    "metadata": {},
                    "output_type": "display_data"
                }
            ],
            "source": [
                "sns.boxplot(mask_set['sets_num'])"
            ]
        },
        {
            "attachments": {},
            "cell_type": "markdown",
            "metadata": {},
            "source": [
                "Разбейте данные на две группы — с 1980 до 2001 гг. и 2002-2022 гг."
            ]
        },
        {
            "cell_type": "code",
            "execution_count": 138,
            "metadata": {},
            "outputs": [
                {
                    "data": {
                        "text/plain": [
                            "0      1990-12-31\n",
                            "1      1990-12-31\n",
                            "2      1990-12-31\n",
                            "3      1990-12-31\n",
                            "4      1990-12-31\n",
                            "          ...    \n",
                            "2909   2022-03-04\n",
                            "2910   2022-03-04\n",
                            "2911   2022-03-04\n",
                            "2912   2022-03-04\n",
                            "2913   2022-03-04\n",
                            "Name: tourney_date, Length: 91860, dtype: datetime64[ns]"
                        ]
                    },
                    "execution_count": 138,
                    "metadata": {},
                    "output_type": "execute_result"
                }
            ],
            "source": [
                "atp_matches[\"tourney_date\"]"
            ]
        },
        {
            "cell_type": "code",
            "execution_count": 139,
            "metadata": {},
            "outputs": [
                {
                    "name": "stderr",
                    "output_type": "stream",
                    "text": [
                        "C:\\Users\\rinen\\AppData\\Local\\Temp\\ipykernel_27232\\144444436.py:1: SettingWithCopyWarning: \n",
                        "A value is trying to be set on a copy of a slice from a DataFrame.\n",
                        "Try using .loc[row_indexer,col_indexer] = value instead\n",
                        "\n",
                        "See the caveats in the documentation: https://pandas.pydata.org/pandas-docs/stable/user_guide/indexing.html#returning-a-view-versus-a-copy\n",
                        "  mask_set[\"tourney_date\"] = mask_set[\"tourney_date\"].dt.year\n"
                    ]
                }
            ],
            "source": [
                "mask_set[\"tourney_date\"] = mask_set[\"tourney_date\"].dt.year"
            ]
        },
        {
            "cell_type": "code",
            "execution_count": 140,
            "metadata": {},
            "outputs": [
                {
                    "data": {
                        "text/plain": [
                            "((array([-2.03779133, -1.64072656, -1.40239528, -1.22456199, -1.07878552,\n",
                            "         -0.95292829, -0.84060464, -0.73800319, -0.64264332, -0.55280255,\n",
                            "         -0.46722113, -0.38493614, -0.30518168, -0.22732525, -0.15082484,\n",
                            "         -0.07519829,  0.        ,  0.07519829,  0.15082484,  0.22732525,\n",
                            "          0.30518168,  0.38493614,  0.46722113,  0.55280255,  0.64264332,\n",
                            "          0.73800319,  0.84060464,  0.95292829,  1.07878552,  1.22456199,\n",
                            "          1.40239528,  1.64072656,  2.03779133]),\n",
                            "  array([2.33333333, 2.54181084, 2.54227232, 2.54796889, 2.54814815,\n",
                            "         2.5582038 , 2.56420596, 2.57712126, 2.58045977, 2.58264725,\n",
                            "         2.5882718 , 2.58840864, 2.59024935, 2.59151009, 2.59250765,\n",
                            "         2.59471206, 2.59836624, 2.60141685, 2.60286104, 2.60329341,\n",
                            "         2.61027523, 2.61149346, 2.61666052, 2.62165021, 2.62354359,\n",
                            "         2.62413793, 2.64102564, 2.64247517, 2.64414587, 2.65843621,\n",
                            "         2.67804878, 2.70127119, 2.72921109])),\n",
                            " (0.05907199074302119, 2.59788313916834, 0.887763479329078))"
                        ]
                    },
                    "execution_count": 140,
                    "metadata": {},
                    "output_type": "execute_result"
                },
                {
                    "data": {
                        "image/png": "[encoded data removed]",
                        "text/plain": [
                            "<Figure size 640x480 with 1 Axes>"
                        ]
                    },
                    "metadata": {},
                    "output_type": "display_data"
                }
            ],
            "source": [
                "mean_year_sets = mask_set.groupby('tourney_date')['sets_num'].mean()\n",
                "\n",
                "fig, (ax1) = plt.subplots(1)\n",
                "fig.suptitle('QQ Plot', fontsize=18)\n",
                "stats.probplot(mean_year_sets, dist=\"norm\", plot=ax1)"
            ]
        },
        {
            "cell_type": "code",
            "execution_count": 141,
            "metadata": {},
            "outputs": [
                {
                    "data": {
                        "text/plain": [
                            "ShapiroResult(statistic=0.8192764520645142, pvalue=7.693520456086844e-05)"
                        ]
                    },
                    "execution_count": 141,
                    "metadata": {},
                    "output_type": "execute_result"
                }
            ],
            "source": [
                "stats.shapiro(mean_year_sets)"
            ]
        },
        {
            "cell_type": "code",
            "execution_count": 142,
            "metadata": {},
            "outputs": [
                {
                    "data": {
                        "text/plain": [
                            "NormaltestResult(statistic=29.28248976127254, pvalue=4.379133047000851e-07)"
                        ]
                    },
                    "execution_count": 142,
                    "metadata": {},
                    "output_type": "execute_result"
                }
            ],
            "source": [
                "stats.normaltest(mean_year_sets)"
            ]
        },
        {
            "cell_type": "code",
            "execution_count": 143,
            "metadata": {},
            "outputs": [
                {
                    "name": "stderr",
                    "output_type": "stream",
                    "text": [
                        "c:\\Users\\rinen\\AppData\\Local\\Programs\\Python\\Python39\\lib\\site-packages\\seaborn\\_decorators.py:36: FutureWarning: Pass the following variable as a keyword arg: x. From version 0.12, the only valid positional argument will be `data`, and passing other arguments without an explicit keyword will result in an error or misinterpretation.\n",
                        "  warnings.warn(\n"
                    ]
                },
                {
                    "data": {
                        "text/plain": [
                            "<AxesSubplot: xlabel='sets_num'>"
                        ]
                    },
                    "execution_count": 143,
                    "metadata": {},
                    "output_type": "execute_result"
                },
                {
                    "data": {
                        "image/png": "[encoded data removed]",
                        "text/plain": [
                            "<Figure size 640x480 with 1 Axes>"
                        ]
                    },
                    "metadata": {},
                    "output_type": "display_data"
                }
            ],
            "source": [
                "sns.boxplot(mean_year_sets)"
            ]
        },
        {
            "cell_type": "code",
            "execution_count": 144,
            "metadata": {},
            "outputs": [],
            "source": [
                "mask_set_1980_2001 = mask_set[mask_set['tourney_date'] <= 2001]\n",
                "mask_set_2002_2022 = mask_set[mask_set['tourney_date'] >= 2002]"
            ]
        },
        {
            "cell_type": "code",
            "execution_count": 145,
            "metadata": {},
            "outputs": [],
            "source": [
                "mean_sets_over2002 = mask_set_2002_2022.groupby('tourney_date')['sets_num'].mean()"
            ]
        },
        {
            "cell_type": "code",
            "execution_count": 146,
            "metadata": {},
            "outputs": [
                {
                    "data": {
                        "text/plain": [
                            "<AxesSubplot: >"
                        ]
                    },
                    "execution_count": 146,
                    "metadata": {},
                    "output_type": "execute_result"
                },
                {
                    "data": {
                        "image/png": "[encoded data removed]",
                        "text/plain": [
                            "<Figure size 640x480 with 1 Axes>"
                        ]
                    },
                    "metadata": {},
                    "output_type": "display_data"
                }
            ],
            "source": [
                "mean_sets_over2002.hist()"
            ]
        },
        {
            "cell_type": "code",
            "execution_count": 147,
            "metadata": {},
            "outputs": [
                {
                    "data": {
                        "text/plain": [
                            "((array([-1.84569542, -1.41352783, -1.14765351, -0.94487504, -0.77501005,\n",
                            "         -0.62504005, -0.48799157, -0.35957249, -0.23684388, -0.11759451,\n",
                            "          0.        ,  0.11759451,  0.23684388,  0.35957249,  0.48799157,\n",
                            "          0.62504005,  0.77501005,  0.94487504,  1.14765351,  1.41352783,\n",
                            "          1.84569542]),\n",
                            "  array([2.5582038 , 2.57712126, 2.59024935, 2.59151009, 2.59250765,\n",
                            "         2.59471206, 2.60141685, 2.60329341, 2.61027523, 2.61149346,\n",
                            "         2.61666052, 2.62165021, 2.62354359, 2.62413793, 2.64102564,\n",
                            "         2.64247517, 2.64414587, 2.65843621, 2.67804878, 2.70127119,\n",
                            "         2.72921109])),\n",
                            " (0.04180766936444374, 2.624351875187013, 0.9628994967007333))"
                        ]
                    },
                    "execution_count": 147,
                    "metadata": {},
                    "output_type": "execute_result"
                },
                {
                    "data": {
                        "image/png": "[encoded data removed]",
                        "text/plain": [
                            "<Figure size 640x480 with 1 Axes>"
                        ]
                    },
                    "metadata": {},
                    "output_type": "display_data"
                }
            ],
            "source": [
                "fig, (ax1) = plt.subplots(1)\n",
                "fig.suptitle('QQ Plot', fontsize=18)\n",
                "stats.probplot(mean_sets_over2002, dist=\"norm\", plot=ax1)"
            ]
        },
        {
            "cell_type": "code",
            "execution_count": 148,
            "metadata": {},
            "outputs": [
                {
                    "data": {
                        "text/plain": [
                            "ShapiroResult(statistic=0.9338598251342773, pvalue=0.16446754336357117)"
                        ]
                    },
                    "execution_count": 148,
                    "metadata": {},
                    "output_type": "execute_result"
                }
            ],
            "source": [
                "stats.shapiro(mean_sets_over2002)"
            ]
        },
        {
            "attachments": {},
            "cell_type": "markdown",
            "metadata": {},
            "source": [
                "Эти данные распределен нормально"
            ]
        },
        {
            "cell_type": "code",
            "execution_count": 149,
            "metadata": {},
            "outputs": [
                {
                    "data": {
                        "text/plain": [
                            "<AxesSubplot: >"
                        ]
                    },
                    "execution_count": 149,
                    "metadata": {},
                    "output_type": "execute_result"
                },
                {
                    "data": {
                        "image/png": "[encoded data removed]",
                        "text/plain": [
                            "<Figure size 640x480 with 1 Axes>"
                        ]
                    },
                    "metadata": {},
                    "output_type": "display_data"
                }
            ],
            "source": [
                "mean_sets_less2001 = mask_set_1980_2001.groupby('tourney_date')['sets_num'].mean()\n",
                "mean_sets_less2001.hist()"
            ]
        },
        {
            "cell_type": "code",
            "execution_count": 150,
            "metadata": {},
            "outputs": [
                {
                    "data": {
                        "text/plain": [
                            "((array([-1.58815464, -1.09814975, -0.78255927, -0.53069113, -0.30892353,\n",
                            "         -0.101534  ,  0.101534  ,  0.30892353,  0.53069113,  0.78255927,\n",
                            "          1.09814975,  1.58815464]),\n",
                            "  array([2.33333333, 2.54181084, 2.54227232, 2.54796889, 2.54814815,\n",
                            "         2.56420596, 2.58045977, 2.58264725, 2.5882718 , 2.58840864,\n",
                            "         2.59836624, 2.60286104])),\n",
                            " (0.05921800032073642, 2.5515628511356625, 0.7606022735726901))"
                        ]
                    },
                    "execution_count": 150,
                    "metadata": {},
                    "output_type": "execute_result"
                },
                {
                    "data": {
                        "image/png": "[encoded data removed]",
                        "text/plain": [
                            "<Figure size 640x480 with 1 Axes>"
                        ]
                    },
                    "metadata": {},
                    "output_type": "display_data"
                }
            ],
            "source": [
                "fig, (ax1) = plt.subplots(1)\n",
                "fig.suptitle('QQ Plot', fontsize=18)\n",
                "stats.probplot(mean_sets_less2001, dist=\"norm\", plot=ax1)"
            ]
        },
        {
            "cell_type": "code",
            "execution_count": 151,
            "metadata": {},
            "outputs": [
                {
                    "data": {
                        "text/plain": [
                            "<AxesSubplot: xlabel='tourney_date', ylabel='sets_num'>"
                        ]
                    },
                    "execution_count": 151,
                    "metadata": {},
                    "output_type": "execute_result"
                },
                {
                    "data": {
                        "image/png": "[encoded data removed]",
                        "text/plain": [
                            "<Figure size 640x480 with 1 Axes>"
                        ]
                    },
                    "metadata": {},
                    "output_type": "display_data"
                }
            ],
            "source": [
                "sns.lineplot(data = mean_sets_over2002)\n",
                "sns.lineplot(data = mean_sets_less2001)"
            ]
        },
        {
            "cell_type": "code",
            "execution_count": 152,
            "metadata": {},
            "outputs": [],
            "source": [
                "H0 = 'Среднее количество сетов со временем не изменялось'\n",
                "HA = 'Среднее количество сетов со временем изменялось в сторону увеличения'"
            ]
        },
        {
            "cell_type": "code",
            "execution_count": 153,
            "metadata": {},
            "outputs": [
                {
                    "data": {
                        "text/plain": [
                            "Ttest_indResult(statistic=3.7040999613712122, pvalue=0.0008252564231053834)"
                        ]
                    },
                    "execution_count": 153,
                    "metadata": {},
                    "output_type": "execute_result"
                }
            ],
            "source": [
                "stats.ttest_ind(mean_sets_over2002, mean_sets_less2001, equal_var=True)"
            ]
        },
        {
            "attachments": {},
            "cell_type": "markdown",
            "metadata": {},
            "source": [
                "p-value < 0.05 - следовательно отвергаем H0"
            ]
        },
        {
            "attachments": {},
            "cell_type": "markdown",
            "metadata": {},
            "source": [
                "    Оставьте только матчи best of 5 (колонка best_of) и определите — является ли разница среднего количества сетов, которое сыграл победитель, значимой для выборок матчей по 1980 до 2001 гг. и 2002-2022 гг. Выбор статистического теста обоснуйте."
            ]
        },
        {
            "cell_type": "code",
            "execution_count": 154,
            "metadata": {},
            "outputs": [
                {
                    "data": {
                        "text/html": [
                            "<div>\n",
                            "<style scoped>\n",
                            "    .dataframe tbody tr th:only-of-type {\n",
                            "        vertical-align: middle;\n",
                            "    }\n",
                            "\n",
                            "    .dataframe tbody tr th {\n",
                            "        vertical-align: top;\n",
                            "    }\n",
                            "\n",
                            "    .dataframe thead th {\n",
                            "        text-align: right;\n",
                            "    }\n",
                            "</style>\n",
                            "<table border=\"1\" class=\"dataframe\">\n",
                            "  <thead>\n",
                            "    <tr style=\"text-align: right;\">\n",
                            "      <th></th>\n",
                            "      <th>tourney_id</th>\n",
                            "      <th>tourney_name</th>\n",
                            "      <th>surface</th>\n",
                            "      <th>draw_size</th>\n",
                            "      <th>tourney_level</th>\n",
                            "      <th>tourney_date</th>\n",
                            "      <th>match_num</th>\n",
                            "      <th>winner_id</th>\n",
                            "      <th>winner_name</th>\n",
                            "      <th>winner_hand</th>\n",
                            "      <th>...</th>\n",
                            "      <th>l_2ndWon</th>\n",
                            "      <th>l_SvGms</th>\n",
                            "      <th>l_bpSaved</th>\n",
                            "      <th>l_bpFaced</th>\n",
                            "      <th>winner_rank</th>\n",
                            "      <th>winner_rank_points</th>\n",
                            "      <th>loser_rank</th>\n",
                            "      <th>loser_rank_points</th>\n",
                            "      <th>diff_winner_rank</th>\n",
                            "      <th>sets_num</th>\n",
                            "    </tr>\n",
                            "  </thead>\n",
                            "  <tbody>\n",
                            "    <tr>\n",
                            "      <th>124</th>\n",
                            "      <td>1991-580</td>\n",
                            "      <td>Australian Open</td>\n",
                            "      <td>Hard</td>\n",
                            "      <td>128</td>\n",
                            "      <td>G</td>\n",
                            "      <td>1991</td>\n",
                            "      <td>1</td>\n",
                            "      <td>101222</td>\n",
                            "      <td>Stefan Edberg</td>\n",
                            "      <td>R</td>\n",
                            "      <td>...</td>\n",
                            "      <td>11.0</td>\n",
                            "      <td>14.0</td>\n",
                            "      <td>4.0</td>\n",
                            "      <td>10.0</td>\n",
                            "      <td>1.0</td>\n",
                            "      <td>3889.0</td>\n",
                            "      <td>162.0</td>\n",
                            "      <td>202.0</td>\n",
                            "      <td>161.0</td>\n",
                            "      <td>3</td>\n",
                            "    </tr>\n",
                            "    <tr>\n",
                            "      <th>125</th>\n",
                            "      <td>1991-580</td>\n",
                            "      <td>Australian Open</td>\n",
                            "      <td>Hard</td>\n",
                            "      <td>128</td>\n",
                            "      <td>G</td>\n",
                            "      <td>1991</td>\n",
                            "      <td>2</td>\n",
                            "      <td>100995</td>\n",
                            "      <td>Eduardo Masso</td>\n",
                            "      <td>L</td>\n",
                            "      <td>...</td>\n",
                            "      <td>29.0</td>\n",
                            "      <td>26.0</td>\n",
                            "      <td>7.0</td>\n",
                            "      <td>18.0</td>\n",
                            "      <td>124.0</td>\n",
                            "      <td>278.0</td>\n",
                            "      <td>81.0</td>\n",
                            "      <td>453.0</td>\n",
                            "      <td>43.0</td>\n",
                            "      <td>5</td>\n",
                            "    </tr>\n",
                            "    <tr>\n",
                            "      <th>126</th>\n",
                            "      <td>1991-580</td>\n",
                            "      <td>Australian Open</td>\n",
                            "      <td>Hard</td>\n",
                            "      <td>128</td>\n",
                            "      <td>G</td>\n",
                            "      <td>1991</td>\n",
                            "      <td>3</td>\n",
                            "      <td>101138</td>\n",
                            "      <td>Pat Cash</td>\n",
                            "      <td>R</td>\n",
                            "      <td>...</td>\n",
                            "      <td>12.0</td>\n",
                            "      <td>12.0</td>\n",
                            "      <td>9.0</td>\n",
                            "      <td>16.0</td>\n",
                            "      <td>84.0</td>\n",
                            "      <td>432.0</td>\n",
                            "      <td>32.0</td>\n",
                            "      <td>845.0</td>\n",
                            "      <td>52.0</td>\n",
                            "      <td>3</td>\n",
                            "    </tr>\n",
                            "    <tr>\n",
                            "      <th>127</th>\n",
                            "      <td>1991-580</td>\n",
                            "      <td>Australian Open</td>\n",
                            "      <td>Hard</td>\n",
                            "      <td>128</td>\n",
                            "      <td>G</td>\n",
                            "      <td>1991</td>\n",
                            "      <td>4</td>\n",
                            "      <td>100870</td>\n",
                            "      <td>Christo Van Rensburg</td>\n",
                            "      <td>R</td>\n",
                            "      <td>...</td>\n",
                            "      <td>26.0</td>\n",
                            "      <td>14.0</td>\n",
                            "      <td>8.0</td>\n",
                            "      <td>15.0</td>\n",
                            "      <td>59.0</td>\n",
                            "      <td>527.0</td>\n",
                            "      <td>82.0</td>\n",
                            "      <td>448.0</td>\n",
                            "      <td>23.0</td>\n",
                            "      <td>3</td>\n",
                            "    </tr>\n",
                            "    <tr>\n",
                            "      <th>128</th>\n",
                            "      <td>1991-580</td>\n",
                            "      <td>Australian Open</td>\n",
                            "      <td>Hard</td>\n",
                            "      <td>128</td>\n",
                            "      <td>G</td>\n",
                            "      <td>1991</td>\n",
                            "      <td>5</td>\n",
                            "      <td>101731</td>\n",
                            "      <td>Nuno Marques</td>\n",
                            "      <td>L</td>\n",
                            "      <td>...</td>\n",
                            "      <td>28.0</td>\n",
                            "      <td>23.0</td>\n",
                            "      <td>9.0</td>\n",
                            "      <td>13.0</td>\n",
                            "      <td>104.0</td>\n",
                            "      <td>340.0</td>\n",
                            "      <td>116.0</td>\n",
                            "      <td>299.0</td>\n",
                            "      <td>12.0</td>\n",
                            "      <td>5</td>\n",
                            "    </tr>\n",
                            "  </tbody>\n",
                            "</table>\n",
                            "<p>5 rows × 46 columns</p>\n",
                            "</div>"
                        ],
                        "text/plain": [
                            "    tourney_id     tourney_name surface  draw_size tourney_level  \\\n",
                            "124   1991-580  Australian Open    Hard        128             G   \n",
                            "125   1991-580  Australian Open    Hard        128             G   \n",
                            "126   1991-580  Australian Open    Hard        128             G   \n",
                            "127   1991-580  Australian Open    Hard        128             G   \n",
                            "128   1991-580  Australian Open    Hard        128             G   \n",
                            "\n",
                            "     tourney_date  match_num  winner_id           winner_name winner_hand  \\\n",
                            "124          1991          1     101222         Stefan Edberg           R   \n",
                            "125          1991          2     100995         Eduardo Masso           L   \n",
                            "126          1991          3     101138              Pat Cash           R   \n",
                            "127          1991          4     100870  Christo Van Rensburg           R   \n",
                            "128          1991          5     101731          Nuno Marques           L   \n",
                            "\n",
                            "     ...  l_2ndWon l_SvGms  l_bpSaved  l_bpFaced winner_rank  \\\n",
                            "124  ...      11.0    14.0        4.0       10.0         1.0   \n",
                            "125  ...      29.0    26.0        7.0       18.0       124.0   \n",
                            "126  ...      12.0    12.0        9.0       16.0        84.0   \n",
                            "127  ...      26.0    14.0        8.0       15.0        59.0   \n",
                            "128  ...      28.0    23.0        9.0       13.0       104.0   \n",
                            "\n",
                            "    winner_rank_points  loser_rank loser_rank_points  diff_winner_rank  \\\n",
                            "124             3889.0       162.0             202.0             161.0   \n",
                            "125              278.0        81.0             453.0              43.0   \n",
                            "126              432.0        32.0             845.0              52.0   \n",
                            "127              527.0        82.0             448.0              23.0   \n",
                            "128              340.0       116.0             299.0              12.0   \n",
                            "\n",
                            "    sets_num  \n",
                            "124        3  \n",
                            "125        5  \n",
                            "126        3  \n",
                            "127        3  \n",
                            "128        5  \n",
                            "\n",
                            "[5 rows x 46 columns]"
                        ]
                    },
                    "execution_count": 154,
                    "metadata": {},
                    "output_type": "execute_result"
                }
            ],
            "source": [
                "mask_set_best5 = mask_set_1980_2001['best_of'] == 5\n",
                "set_1980_2001_best5 = mask_set_1980_2001[mask_set_best5]\n",
                "\n",
                "set_1980_2001_best5.head()"
            ]
        },
        {
            "cell_type": "code",
            "execution_count": 155,
            "metadata": {},
            "outputs": [
                {
                    "data": {
                        "text/html": [
                            "<div>\n",
                            "<style scoped>\n",
                            "    .dataframe tbody tr th:only-of-type {\n",
                            "        vertical-align: middle;\n",
                            "    }\n",
                            "\n",
                            "    .dataframe tbody tr th {\n",
                            "        vertical-align: top;\n",
                            "    }\n",
                            "\n",
                            "    .dataframe thead th {\n",
                            "        text-align: right;\n",
                            "    }\n",
                            "</style>\n",
                            "<table border=\"1\" class=\"dataframe\">\n",
                            "  <thead>\n",
                            "    <tr style=\"text-align: right;\">\n",
                            "      <th></th>\n",
                            "      <th>tourney_id</th>\n",
                            "      <th>tourney_name</th>\n",
                            "      <th>surface</th>\n",
                            "      <th>draw_size</th>\n",
                            "      <th>tourney_level</th>\n",
                            "      <th>tourney_date</th>\n",
                            "      <th>match_num</th>\n",
                            "      <th>winner_id</th>\n",
                            "      <th>winner_name</th>\n",
                            "      <th>winner_hand</th>\n",
                            "      <th>...</th>\n",
                            "      <th>l_2ndWon</th>\n",
                            "      <th>l_SvGms</th>\n",
                            "      <th>l_bpSaved</th>\n",
                            "      <th>l_bpFaced</th>\n",
                            "      <th>winner_rank</th>\n",
                            "      <th>winner_rank_points</th>\n",
                            "      <th>loser_rank</th>\n",
                            "      <th>loser_rank_points</th>\n",
                            "      <th>diff_winner_rank</th>\n",
                            "      <th>sets_num</th>\n",
                            "    </tr>\n",
                            "  </thead>\n",
                            "  <tbody>\n",
                            "    <tr>\n",
                            "      <th>225</th>\n",
                            "      <td>2002-314</td>\n",
                            "      <td>Gstaad</td>\n",
                            "      <td>Clay</td>\n",
                            "      <td>32</td>\n",
                            "      <td>A</td>\n",
                            "      <td>2002</td>\n",
                            "      <td>31</td>\n",
                            "      <td>102374</td>\n",
                            "      <td>Alex Corretja</td>\n",
                            "      <td>R</td>\n",
                            "      <td>...</td>\n",
                            "      <td>24.0</td>\n",
                            "      <td>16.0</td>\n",
                            "      <td>5.0</td>\n",
                            "      <td>9.0</td>\n",
                            "      <td>28.0</td>\n",
                            "      <td>1145.0</td>\n",
                            "      <td>27.0</td>\n",
                            "      <td>1198.0</td>\n",
                            "      <td>1.0</td>\n",
                            "      <td>3</td>\n",
                            "    </tr>\n",
                            "    <tr>\n",
                            "      <th>365</th>\n",
                            "      <td>2002-319</td>\n",
                            "      <td>Kitzbuhel</td>\n",
                            "      <td>Clay</td>\n",
                            "      <td>48</td>\n",
                            "      <td>A</td>\n",
                            "      <td>2002</td>\n",
                            "      <td>47</td>\n",
                            "      <td>102374</td>\n",
                            "      <td>Alex Corretja</td>\n",
                            "      <td>R</td>\n",
                            "      <td>...</td>\n",
                            "      <td>6.0</td>\n",
                            "      <td>13.0</td>\n",
                            "      <td>5.0</td>\n",
                            "      <td>13.0</td>\n",
                            "      <td>31.0</td>\n",
                            "      <td>1095.0</td>\n",
                            "      <td>8.0</td>\n",
                            "      <td>2050.0</td>\n",
                            "      <td>23.0</td>\n",
                            "      <td>3</td>\n",
                            "    </tr>\n",
                            "    <tr>\n",
                            "      <th>396</th>\n",
                            "      <td>2002-321</td>\n",
                            "      <td>Stuttgart</td>\n",
                            "      <td>Clay</td>\n",
                            "      <td>32</td>\n",
                            "      <td>A</td>\n",
                            "      <td>2002</td>\n",
                            "      <td>31</td>\n",
                            "      <td>104022</td>\n",
                            "      <td>Mikhail Youzhny</td>\n",
                            "      <td>R</td>\n",
                            "      <td>...</td>\n",
                            "      <td>31.0</td>\n",
                            "      <td>23.0</td>\n",
                            "      <td>5.0</td>\n",
                            "      <td>9.0</td>\n",
                            "      <td>62.0</td>\n",
                            "      <td>653.0</td>\n",
                            "      <td>19.0</td>\n",
                            "      <td>1585.0</td>\n",
                            "      <td>43.0</td>\n",
                            "      <td>5</td>\n",
                            "    </tr>\n",
                            "    <tr>\n",
                            "      <th>458</th>\n",
                            "      <td>2002-328</td>\n",
                            "      <td>Basel</td>\n",
                            "      <td>Carpet</td>\n",
                            "      <td>32</td>\n",
                            "      <td>A</td>\n",
                            "      <td>2002</td>\n",
                            "      <td>31</td>\n",
                            "      <td>103900</td>\n",
                            "      <td>David Nalbandian</td>\n",
                            "      <td>R</td>\n",
                            "      <td>...</td>\n",
                            "      <td>11.0</td>\n",
                            "      <td>14.0</td>\n",
                            "      <td>3.0</td>\n",
                            "      <td>8.0</td>\n",
                            "      <td>18.0</td>\n",
                            "      <td>1592.0</td>\n",
                            "      <td>20.0</td>\n",
                            "      <td>1513.0</td>\n",
                            "      <td>2.0</td>\n",
                            "      <td>3</td>\n",
                            "    </tr>\n",
                            "    <tr>\n",
                            "      <th>575</th>\n",
                            "      <td>2002-337</td>\n",
                            "      <td>Vienna</td>\n",
                            "      <td>Hard</td>\n",
                            "      <td>32</td>\n",
                            "      <td>A</td>\n",
                            "      <td>2002</td>\n",
                            "      <td>31</td>\n",
                            "      <td>103819</td>\n",
                            "      <td>Roger Federer</td>\n",
                            "      <td>R</td>\n",
                            "      <td>...</td>\n",
                            "      <td>24.0</td>\n",
                            "      <td>18.0</td>\n",
                            "      <td>6.0</td>\n",
                            "      <td>12.0</td>\n",
                            "      <td>13.0</td>\n",
                            "      <td>1925.0</td>\n",
                            "      <td>12.0</td>\n",
                            "      <td>1961.0</td>\n",
                            "      <td>1.0</td>\n",
                            "      <td>4</td>\n",
                            "    </tr>\n",
                            "  </tbody>\n",
                            "</table>\n",
                            "<p>5 rows × 46 columns</p>\n",
                            "</div>"
                        ],
                        "text/plain": [
                            "    tourney_id tourney_name surface  draw_size tourney_level  tourney_date  \\\n",
                            "225   2002-314       Gstaad    Clay         32             A          2002   \n",
                            "365   2002-319    Kitzbuhel    Clay         48             A          2002   \n",
                            "396   2002-321    Stuttgart    Clay         32             A          2002   \n",
                            "458   2002-328        Basel  Carpet         32             A          2002   \n",
                            "575   2002-337       Vienna    Hard         32             A          2002   \n",
                            "\n",
                            "     match_num  winner_id       winner_name winner_hand  ...  l_2ndWon  \\\n",
                            "225         31     102374     Alex Corretja           R  ...      24.0   \n",
                            "365         47     102374     Alex Corretja           R  ...       6.0   \n",
                            "396         31     104022   Mikhail Youzhny           R  ...      31.0   \n",
                            "458         31     103900  David Nalbandian           R  ...      11.0   \n",
                            "575         31     103819     Roger Federer           R  ...      24.0   \n",
                            "\n",
                            "    l_SvGms  l_bpSaved  l_bpFaced winner_rank winner_rank_points  loser_rank  \\\n",
                            "225    16.0        5.0        9.0        28.0             1145.0        27.0   \n",
                            "365    13.0        5.0       13.0        31.0             1095.0         8.0   \n",
                            "396    23.0        5.0        9.0        62.0              653.0        19.0   \n",
                            "458    14.0        3.0        8.0        18.0             1592.0        20.0   \n",
                            "575    18.0        6.0       12.0        13.0             1925.0        12.0   \n",
                            "\n",
                            "    loser_rank_points  diff_winner_rank sets_num  \n",
                            "225            1198.0               1.0        3  \n",
                            "365            2050.0              23.0        3  \n",
                            "396            1585.0              43.0        5  \n",
                            "458            1513.0               2.0        3  \n",
                            "575            1961.0               1.0        4  \n",
                            "\n",
                            "[5 rows x 46 columns]"
                        ]
                    },
                    "execution_count": 155,
                    "metadata": {},
                    "output_type": "execute_result"
                }
            ],
            "source": [
                "mask_set_best5 = mask_set_2002_2022['best_of'] == 5\n",
                "set_2002_2022_best5 = mask_set_2002_2022[mask_set_best5]\n",
                "\n",
                "set_2002_2022_best5.head()"
            ]
        },
        {
            "cell_type": "code",
            "execution_count": 156,
            "metadata": {},
            "outputs": [
                {
                    "data": {
                        "text/plain": [
                            "tourney_date\n",
                            "2002    3.764933\n",
                            "2003    3.718447\n",
                            "2004    3.694553\n",
                            "2005    3.673745\n",
                            "2006    3.673077\n",
                            "Name: sets_num, dtype: float64"
                        ]
                    },
                    "execution_count": 156,
                    "metadata": {},
                    "output_type": "execute_result"
                }
            ],
            "source": [
                "best_5_mean_over2022 = set_2002_2022_best5.groupby(\n",
                "    'tourney_date'\n",
                ")['sets_num'].mean()\n",
                "\n",
                "best_5_mean_over2022.head()"
            ]
        },
        {
            "cell_type": "code",
            "execution_count": 157,
            "metadata": {},
            "outputs": [
                {
                    "data": {
                        "text/plain": [
                            "tourney_date\n",
                            "1991    3.767123\n",
                            "1992    3.737548\n",
                            "1993    3.727273\n",
                            "1994    3.701944\n",
                            "1995    3.642715\n",
                            "Name: sets_num, dtype: float64"
                        ]
                    },
                    "execution_count": 157,
                    "metadata": {},
                    "output_type": "execute_result"
                }
            ],
            "source": [
                "best_5_mean_less2001 = set_1980_2001_best5.groupby(\n",
                "    'tourney_date'\n",
                ")['sets_num'].mean()\n",
                "\n",
                "best_5_mean_less2001.head()"
            ]
        },
        {
            "cell_type": "code",
            "execution_count": 158,
            "metadata": {},
            "outputs": [
                {
                    "data": {
                        "text/plain": [
                            "<AxesSubplot: xlabel='tourney_date', ylabel='sets_num'>"
                        ]
                    },
                    "execution_count": 158,
                    "metadata": {},
                    "output_type": "execute_result"
                },
                {
                    "data": {
                        "image/png": "[encoded data removed]",
                        "text/plain": [
                            "<Figure size 640x480 with 1 Axes>"
                        ]
                    },
                    "metadata": {},
                    "output_type": "display_data"
                }
            ],
            "source": [
                "sns.lineplot(data = best_5_mean_less2001)\n",
                "sns.lineplot(data = best_5_mean_over2022)"
            ]
        },
        {
            "attachments": {},
            "cell_type": "markdown",
            "metadata": {},
            "source": [
                "Здесь уже выборка зависима, т.к. играем один челока, поэтому тест Манни-Уитни"
            ]
        },
        {
            "attachments": {},
            "cell_type": "markdown",
            "metadata": {},
            "source": [
                "https://docs.scipy.org/doc/scipy/reference/generated/scipy.stats.mannwhitneyu.html"
            ]
        },
        {
            "cell_type": "code",
            "execution_count": 159,
            "metadata": {},
            "outputs": [
                {
                    "data": {
                        "text/plain": [
                            "MannwhitneyuResult(statistic=161.0, pvalue=0.07419336252459523)"
                        ]
                    },
                    "execution_count": 159,
                    "metadata": {},
                    "output_type": "execute_result"
                }
            ],
            "source": [
                "stats.mannwhitneyu(best_5_mean_less2001, best_5_mean_over2022)"
            ]
        },
        {
            "attachments": {},
            "cell_type": "markdown",
            "metadata": {},
            "source": [
                "Здесь видим, что p-value выше 0.05, да и на графике заметная дисперсия, поэтому здесь среднее количество сетов со временем изменяется. Просто на всякий случай проверю t-test-ом."
            ]
        },
        {
            "cell_type": "code",
            "execution_count": 160,
            "metadata": {},
            "outputs": [
                {
                    "data": {
                        "text/plain": [
                            "Ttest_indResult(statistic=1.8844610332482292, pvalue=0.0692247052789131)"
                        ]
                    },
                    "execution_count": 160,
                    "metadata": {},
                    "output_type": "execute_result"
                }
            ],
            "source": [
                "stats.ttest_ind(best_5_mean_less2001, best_5_mean_over2022, equal_var=True)"
            ]
        },
        {
            "attachments": {},
            "cell_type": "markdown",
            "metadata": {},
            "source": [
                "    Возьмите трех игроков (они необязательно должны играть в одно и то же время. Можете взять игроков, которые сильно отличаются по рангу, а можете взять примерно равных игроков)"
            ]
        },
        {
            "cell_type": "code",
            "execution_count": 161,
            "metadata": {},
            "outputs": [
                {
                    "data": {
                        "text/plain": [
                            "loser_rank_points     1.312867\n",
                            "winner_rank_points    1.150664\n",
                            "loser_ht              0.898106\n",
                            "loser_rank            0.301546\n",
                            "diff_winner_rank      0.301546\n",
                            "winner_ht             0.187241\n",
                            "loser_age             0.010886\n",
                            "loser_hand            0.004354\n",
                            "winner_hand           0.001089\n",
                            "dtype: float64"
                        ]
                    },
                    "metadata": {},
                    "output_type": "display_data"
                }
            ],
            "source": [
                "cols_na_percent = atp_matches.isna().mean() * 100\n",
                "cols_with_na = cols_na_percent[cols_na_percent>0].sort_values(ascending=False)\n",
                "display(cols_with_na)"
            ]
        },
        {
            "attachments": {},
            "cell_type": "markdown",
            "metadata": {},
            "source": [
                "Сортируем датасет в промежутке с 2011 по 2021 (10 лет подряд)"
            ]
        },
        {
            "cell_type": "code",
            "execution_count": 162,
            "metadata": {},
            "outputs": [],
            "source": [
                "atp_matches[\"tourney_date\"] = atp_matches[\"tourney_date\"].dt.year"
            ]
        },
        {
            "cell_type": "code",
            "execution_count": 163,
            "metadata": {},
            "outputs": [
                {
                    "data": {
                        "text/html": [
                            "<div>\n",
                            "<style scoped>\n",
                            "    .dataframe tbody tr th:only-of-type {\n",
                            "        vertical-align: middle;\n",
                            "    }\n",
                            "\n",
                            "    .dataframe tbody tr th {\n",
                            "        vertical-align: top;\n",
                            "    }\n",
                            "\n",
                            "    .dataframe thead th {\n",
                            "        text-align: right;\n",
                            "    }\n",
                            "</style>\n",
                            "<table border=\"1\" class=\"dataframe\">\n",
                            "  <thead>\n",
                            "    <tr style=\"text-align: right;\">\n",
                            "      <th></th>\n",
                            "      <th>tourney_id</th>\n",
                            "      <th>tourney_name</th>\n",
                            "      <th>surface</th>\n",
                            "      <th>draw_size</th>\n",
                            "      <th>tourney_level</th>\n",
                            "      <th>tourney_date</th>\n",
                            "      <th>match_num</th>\n",
                            "      <th>winner_id</th>\n",
                            "      <th>winner_name</th>\n",
                            "      <th>winner_hand</th>\n",
                            "      <th>...</th>\n",
                            "      <th>l_2ndWon</th>\n",
                            "      <th>l_SvGms</th>\n",
                            "      <th>l_bpSaved</th>\n",
                            "      <th>l_bpFaced</th>\n",
                            "      <th>winner_rank</th>\n",
                            "      <th>winner_rank_points</th>\n",
                            "      <th>loser_rank</th>\n",
                            "      <th>loser_rank_points</th>\n",
                            "      <th>diff_winner_rank</th>\n",
                            "      <th>sets_num</th>\n",
                            "    </tr>\n",
                            "  </thead>\n",
                            "  <tbody>\n",
                            "    <tr>\n",
                            "      <th>0</th>\n",
                            "      <td>2011-339</td>\n",
                            "      <td>Brisbane</td>\n",
                            "      <td>Hard</td>\n",
                            "      <td>32</td>\n",
                            "      <td>A</td>\n",
                            "      <td>2011</td>\n",
                            "      <td>1</td>\n",
                            "      <td>104417</td>\n",
                            "      <td>Robin Soderling</td>\n",
                            "      <td>R</td>\n",
                            "      <td>...</td>\n",
                            "      <td>12.0</td>\n",
                            "      <td>9.0</td>\n",
                            "      <td>1.0</td>\n",
                            "      <td>4.0</td>\n",
                            "      <td>5.0</td>\n",
                            "      <td>5580.0</td>\n",
                            "      <td>173.0</td>\n",
                            "      <td>309.0</td>\n",
                            "      <td>168.0</td>\n",
                            "      <td>2</td>\n",
                            "    </tr>\n",
                            "    <tr>\n",
                            "      <th>1</th>\n",
                            "      <td>2011-339</td>\n",
                            "      <td>Brisbane</td>\n",
                            "      <td>Hard</td>\n",
                            "      <td>32</td>\n",
                            "      <td>A</td>\n",
                            "      <td>2011</td>\n",
                            "      <td>2</td>\n",
                            "      <td>103582</td>\n",
                            "      <td>Michael Berrer</td>\n",
                            "      <td>L</td>\n",
                            "      <td>...</td>\n",
                            "      <td>20.0</td>\n",
                            "      <td>14.0</td>\n",
                            "      <td>3.0</td>\n",
                            "      <td>5.0</td>\n",
                            "      <td>58.0</td>\n",
                            "      <td>835.0</td>\n",
                            "      <td>75.0</td>\n",
                            "      <td>643.0</td>\n",
                            "      <td>17.0</td>\n",
                            "      <td>3</td>\n",
                            "    </tr>\n",
                            "    <tr>\n",
                            "      <th>2</th>\n",
                            "      <td>2011-339</td>\n",
                            "      <td>Brisbane</td>\n",
                            "      <td>Hard</td>\n",
                            "      <td>32</td>\n",
                            "      <td>A</td>\n",
                            "      <td>2011</td>\n",
                            "      <td>3</td>\n",
                            "      <td>105051</td>\n",
                            "      <td>Matthew Ebden</td>\n",
                            "      <td>R</td>\n",
                            "      <td>...</td>\n",
                            "      <td>6.0</td>\n",
                            "      <td>14.0</td>\n",
                            "      <td>4.0</td>\n",
                            "      <td>8.0</td>\n",
                            "      <td>196.0</td>\n",
                            "      <td>263.0</td>\n",
                            "      <td>204.0</td>\n",
                            "      <td>243.0</td>\n",
                            "      <td>8.0</td>\n",
                            "      <td>3</td>\n",
                            "    </tr>\n",
                            "    <tr>\n",
                            "      <th>3</th>\n",
                            "      <td>2011-339</td>\n",
                            "      <td>Brisbane</td>\n",
                            "      <td>Hard</td>\n",
                            "      <td>32</td>\n",
                            "      <td>A</td>\n",
                            "      <td>2011</td>\n",
                            "      <td>4</td>\n",
                            "      <td>104797</td>\n",
                            "      <td>Denis Istomin</td>\n",
                            "      <td>R</td>\n",
                            "      <td>...</td>\n",
                            "      <td>17.0</td>\n",
                            "      <td>11.0</td>\n",
                            "      <td>2.0</td>\n",
                            "      <td>3.0</td>\n",
                            "      <td>40.0</td>\n",
                            "      <td>1031.0</td>\n",
                            "      <td>43.0</td>\n",
                            "      <td>975.0</td>\n",
                            "      <td>3.0</td>\n",
                            "      <td>2</td>\n",
                            "    </tr>\n",
                            "    <tr>\n",
                            "      <th>4</th>\n",
                            "      <td>2011-339</td>\n",
                            "      <td>Brisbane</td>\n",
                            "      <td>Hard</td>\n",
                            "      <td>32</td>\n",
                            "      <td>A</td>\n",
                            "      <td>2011</td>\n",
                            "      <td>5</td>\n",
                            "      <td>103888</td>\n",
                            "      <td>Mardy Fish</td>\n",
                            "      <td>R</td>\n",
                            "      <td>...</td>\n",
                            "      <td>11.0</td>\n",
                            "      <td>8.0</td>\n",
                            "      <td>3.0</td>\n",
                            "      <td>6.0</td>\n",
                            "      <td>16.0</td>\n",
                            "      <td>1991.0</td>\n",
                            "      <td>83.0</td>\n",
                            "      <td>600.0</td>\n",
                            "      <td>67.0</td>\n",
                            "      <td>2</td>\n",
                            "    </tr>\n",
                            "  </tbody>\n",
                            "</table>\n",
                            "<p>5 rows × 46 columns</p>\n",
                            "</div>"
                        ],
                        "text/plain": [
                            "  tourney_id tourney_name surface  draw_size tourney_level  tourney_date  \\\n",
                            "0   2011-339     Brisbane    Hard         32             A          2011   \n",
                            "1   2011-339     Brisbane    Hard         32             A          2011   \n",
                            "2   2011-339     Brisbane    Hard         32             A          2011   \n",
                            "3   2011-339     Brisbane    Hard         32             A          2011   \n",
                            "4   2011-339     Brisbane    Hard         32             A          2011   \n",
                            "\n",
                            "   match_num  winner_id      winner_name winner_hand  ...  l_2ndWon l_SvGms  \\\n",
                            "0          1     104417  Robin Soderling           R  ...      12.0     9.0   \n",
                            "1          2     103582   Michael Berrer           L  ...      20.0    14.0   \n",
                            "2          3     105051    Matthew Ebden           R  ...       6.0    14.0   \n",
                            "3          4     104797    Denis Istomin           R  ...      17.0    11.0   \n",
                            "4          5     103888       Mardy Fish           R  ...      11.0     8.0   \n",
                            "\n",
                            "   l_bpSaved  l_bpFaced winner_rank winner_rank_points  loser_rank  \\\n",
                            "0        1.0        4.0         5.0             5580.0       173.0   \n",
                            "1        3.0        5.0        58.0              835.0        75.0   \n",
                            "2        4.0        8.0       196.0              263.0       204.0   \n",
                            "3        2.0        3.0        40.0             1031.0        43.0   \n",
                            "4        3.0        6.0        16.0             1991.0        83.0   \n",
                            "\n",
                            "  loser_rank_points  diff_winner_rank sets_num  \n",
                            "0             309.0             168.0        2  \n",
                            "1             643.0              17.0        3  \n",
                            "2             243.0               8.0        3  \n",
                            "3             975.0               3.0        2  \n",
                            "4             600.0              67.0        2  \n",
                            "\n",
                            "[5 rows x 46 columns]"
                        ]
                    },
                    "execution_count": 163,
                    "metadata": {},
                    "output_type": "execute_result"
                }
            ],
            "source": [
                "player_year = pandasql.sqldf(\"\"\"\n",
                "    SELECT *\n",
                "    FROM atp_matches\n",
                "    WHERE tourney_date BETWEEN 2011 AND 2021;\"\"\")\n",
                "    \n",
                "player_year.head()"
            ]
        },
        {
            "attachments": {},
            "cell_type": "markdown",
            "metadata": {},
            "source": [
                "Для каждого из них посчитайте долю выигранных брейк поинтов (колонки, заканчивающиеся на bpFaced и bpSaved) отдельно в победных и проигранных матчах за минимум 10 лет (можно больше, но годы должны идти подряд)"
            ]
        },
        {
            "cell_type": "code",
            "execution_count": 164,
            "metadata": {},
            "outputs": [
                {
                    "data": {
                        "text/html": [
                            "<div>\n",
                            "<style scoped>\n",
                            "    .dataframe tbody tr th:only-of-type {\n",
                            "        vertical-align: middle;\n",
                            "    }\n",
                            "\n",
                            "    .dataframe tbody tr th {\n",
                            "        vertical-align: top;\n",
                            "    }\n",
                            "\n",
                            "    .dataframe thead th {\n",
                            "        text-align: right;\n",
                            "    }\n",
                            "</style>\n",
                            "<table border=\"1\" class=\"dataframe\">\n",
                            "  <thead>\n",
                            "    <tr style=\"text-align: right;\">\n",
                            "      <th></th>\n",
                            "      <th>tourney_id</th>\n",
                            "      <th>tourney_name</th>\n",
                            "      <th>surface</th>\n",
                            "      <th>draw_size</th>\n",
                            "      <th>tourney_level</th>\n",
                            "      <th>tourney_date</th>\n",
                            "      <th>match_num</th>\n",
                            "      <th>winner_id</th>\n",
                            "      <th>winner_name</th>\n",
                            "      <th>winner_hand</th>\n",
                            "      <th>...</th>\n",
                            "      <th>l_2ndWon</th>\n",
                            "      <th>l_SvGms</th>\n",
                            "      <th>l_bpSaved</th>\n",
                            "      <th>l_bpFaced</th>\n",
                            "      <th>winner_rank</th>\n",
                            "      <th>winner_rank_points</th>\n",
                            "      <th>loser_rank</th>\n",
                            "      <th>loser_rank_points</th>\n",
                            "      <th>diff_winner_rank</th>\n",
                            "      <th>sets_num</th>\n",
                            "    </tr>\n",
                            "  </thead>\n",
                            "  <tbody>\n",
                            "    <tr>\n",
                            "      <th>0</th>\n",
                            "      <td>2011-339</td>\n",
                            "      <td>Brisbane</td>\n",
                            "      <td>Hard</td>\n",
                            "      <td>32</td>\n",
                            "      <td>A</td>\n",
                            "      <td>2011</td>\n",
                            "      <td>1</td>\n",
                            "      <td>104417</td>\n",
                            "      <td>Robin Soderling</td>\n",
                            "      <td>R</td>\n",
                            "      <td>...</td>\n",
                            "      <td>12.0</td>\n",
                            "      <td>9.0</td>\n",
                            "      <td>1.0</td>\n",
                            "      <td>4.0</td>\n",
                            "      <td>5.0</td>\n",
                            "      <td>5580.0</td>\n",
                            "      <td>173.0</td>\n",
                            "      <td>309.0</td>\n",
                            "      <td>168.0</td>\n",
                            "      <td>2</td>\n",
                            "    </tr>\n",
                            "    <tr>\n",
                            "      <th>1</th>\n",
                            "      <td>2011-339</td>\n",
                            "      <td>Brisbane</td>\n",
                            "      <td>Hard</td>\n",
                            "      <td>32</td>\n",
                            "      <td>A</td>\n",
                            "      <td>2011</td>\n",
                            "      <td>16</td>\n",
                            "      <td>104053</td>\n",
                            "      <td>Andy Roddick</td>\n",
                            "      <td>R</td>\n",
                            "      <td>...</td>\n",
                            "      <td>12.0</td>\n",
                            "      <td>8.0</td>\n",
                            "      <td>2.0</td>\n",
                            "      <td>6.0</td>\n",
                            "      <td>8.0</td>\n",
                            "      <td>3665.0</td>\n",
                            "      <td>138.0</td>\n",
                            "      <td>398.0</td>\n",
                            "      <td>130.0</td>\n",
                            "      <td>2</td>\n",
                            "    </tr>\n",
                            "    <tr>\n",
                            "      <th>2</th>\n",
                            "      <td>2011-339</td>\n",
                            "      <td>Brisbane</td>\n",
                            "      <td>Hard</td>\n",
                            "      <td>32</td>\n",
                            "      <td>A</td>\n",
                            "      <td>2011</td>\n",
                            "      <td>17</td>\n",
                            "      <td>104417</td>\n",
                            "      <td>Robin Soderling</td>\n",
                            "      <td>R</td>\n",
                            "      <td>...</td>\n",
                            "      <td>14.0</td>\n",
                            "      <td>10.0</td>\n",
                            "      <td>2.0</td>\n",
                            "      <td>3.0</td>\n",
                            "      <td>5.0</td>\n",
                            "      <td>5580.0</td>\n",
                            "      <td>58.0</td>\n",
                            "      <td>835.0</td>\n",
                            "      <td>53.0</td>\n",
                            "      <td>2</td>\n",
                            "    </tr>\n",
                            "    <tr>\n",
                            "      <th>3</th>\n",
                            "      <td>2011-339</td>\n",
                            "      <td>Brisbane</td>\n",
                            "      <td>Hard</td>\n",
                            "      <td>32</td>\n",
                            "      <td>A</td>\n",
                            "      <td>2011</td>\n",
                            "      <td>24</td>\n",
                            "      <td>104053</td>\n",
                            "      <td>Andy Roddick</td>\n",
                            "      <td>R</td>\n",
                            "      <td>...</td>\n",
                            "      <td>9.0</td>\n",
                            "      <td>8.0</td>\n",
                            "      <td>7.0</td>\n",
                            "      <td>11.0</td>\n",
                            "      <td>8.0</td>\n",
                            "      <td>3665.0</td>\n",
                            "      <td>48.0</td>\n",
                            "      <td>940.0</td>\n",
                            "      <td>40.0</td>\n",
                            "      <td>2</td>\n",
                            "    </tr>\n",
                            "    <tr>\n",
                            "      <th>4</th>\n",
                            "      <td>2011-339</td>\n",
                            "      <td>Brisbane</td>\n",
                            "      <td>Hard</td>\n",
                            "      <td>32</td>\n",
                            "      <td>A</td>\n",
                            "      <td>2011</td>\n",
                            "      <td>25</td>\n",
                            "      <td>104417</td>\n",
                            "      <td>Robin Soderling</td>\n",
                            "      <td>R</td>\n",
                            "      <td>...</td>\n",
                            "      <td>9.0</td>\n",
                            "      <td>8.0</td>\n",
                            "      <td>3.0</td>\n",
                            "      <td>6.0</td>\n",
                            "      <td>5.0</td>\n",
                            "      <td>5580.0</td>\n",
                            "      <td>196.0</td>\n",
                            "      <td>263.0</td>\n",
                            "      <td>191.0</td>\n",
                            "      <td>2</td>\n",
                            "    </tr>\n",
                            "  </tbody>\n",
                            "</table>\n",
                            "<p>5 rows × 46 columns</p>\n",
                            "</div>"
                        ],
                        "text/plain": [
                            "  tourney_id tourney_name surface  draw_size tourney_level  tourney_date  \\\n",
                            "0   2011-339     Brisbane    Hard         32             A          2011   \n",
                            "1   2011-339     Brisbane    Hard         32             A          2011   \n",
                            "2   2011-339     Brisbane    Hard         32             A          2011   \n",
                            "3   2011-339     Brisbane    Hard         32             A          2011   \n",
                            "4   2011-339     Brisbane    Hard         32             A          2011   \n",
                            "\n",
                            "   match_num  winner_id      winner_name winner_hand  ...  l_2ndWon l_SvGms  \\\n",
                            "0          1     104417  Robin Soderling           R  ...      12.0     9.0   \n",
                            "1         16     104053     Andy Roddick           R  ...      12.0     8.0   \n",
                            "2         17     104417  Robin Soderling           R  ...      14.0    10.0   \n",
                            "3         24     104053     Andy Roddick           R  ...       9.0     8.0   \n",
                            "4         25     104417  Robin Soderling           R  ...       9.0     8.0   \n",
                            "\n",
                            "   l_bpSaved  l_bpFaced winner_rank winner_rank_points  loser_rank  \\\n",
                            "0        1.0        4.0         5.0             5580.0       173.0   \n",
                            "1        2.0        6.0         8.0             3665.0       138.0   \n",
                            "2        2.0        3.0         5.0             5580.0        58.0   \n",
                            "3        7.0       11.0         8.0             3665.0        48.0   \n",
                            "4        3.0        6.0         5.0             5580.0       196.0   \n",
                            "\n",
                            "  loser_rank_points  diff_winner_rank sets_num  \n",
                            "0             309.0             168.0        2  \n",
                            "1             398.0             130.0        2  \n",
                            "2             835.0              53.0        2  \n",
                            "3             940.0              40.0        2  \n",
                            "4             263.0             191.0        2  \n",
                            "\n",
                            "[5 rows x 46 columns]"
                        ]
                    },
                    "execution_count": 164,
                    "metadata": {},
                    "output_type": "execute_result"
                }
            ],
            "source": [
                "player_1 = pandasql.sqldf(\"\"\"\n",
                "    SELECT *\n",
                "    FROM player_year\n",
                "    WHERE winner_rank < 10;\"\"\")\n",
                "    \n",
                "player_1.head()"
            ]
        },
        {
            "cell_type": "code",
            "execution_count": 165,
            "metadata": {},
            "outputs": [
                {
                    "data": {
                        "text/html": [
                            "<div>\n",
                            "<style scoped>\n",
                            "    .dataframe tbody tr th:only-of-type {\n",
                            "        vertical-align: middle;\n",
                            "    }\n",
                            "\n",
                            "    .dataframe tbody tr th {\n",
                            "        vertical-align: top;\n",
                            "    }\n",
                            "\n",
                            "    .dataframe thead th {\n",
                            "        text-align: right;\n",
                            "    }\n",
                            "</style>\n",
                            "<table border=\"1\" class=\"dataframe\">\n",
                            "  <thead>\n",
                            "    <tr style=\"text-align: right;\">\n",
                            "      <th></th>\n",
                            "      <th>tourney_id</th>\n",
                            "      <th>tourney_name</th>\n",
                            "      <th>surface</th>\n",
                            "      <th>draw_size</th>\n",
                            "      <th>tourney_level</th>\n",
                            "      <th>tourney_date</th>\n",
                            "      <th>match_num</th>\n",
                            "      <th>winner_id</th>\n",
                            "      <th>winner_name</th>\n",
                            "      <th>winner_hand</th>\n",
                            "      <th>...</th>\n",
                            "      <th>l_2ndWon</th>\n",
                            "      <th>l_SvGms</th>\n",
                            "      <th>l_bpSaved</th>\n",
                            "      <th>l_bpFaced</th>\n",
                            "      <th>winner_rank</th>\n",
                            "      <th>winner_rank_points</th>\n",
                            "      <th>loser_rank</th>\n",
                            "      <th>loser_rank_points</th>\n",
                            "      <th>diff_winner_rank</th>\n",
                            "      <th>sets_num</th>\n",
                            "    </tr>\n",
                            "  </thead>\n",
                            "  <tbody>\n",
                            "    <tr>\n",
                            "      <th>0</th>\n",
                            "      <td>2011-339</td>\n",
                            "      <td>Brisbane</td>\n",
                            "      <td>Hard</td>\n",
                            "      <td>32</td>\n",
                            "      <td>A</td>\n",
                            "      <td>2011</td>\n",
                            "      <td>2</td>\n",
                            "      <td>103582</td>\n",
                            "      <td>Michael Berrer</td>\n",
                            "      <td>L</td>\n",
                            "      <td>...</td>\n",
                            "      <td>20.0</td>\n",
                            "      <td>14.0</td>\n",
                            "      <td>3.0</td>\n",
                            "      <td>5.0</td>\n",
                            "      <td>58.0</td>\n",
                            "      <td>835.0</td>\n",
                            "      <td>75.0</td>\n",
                            "      <td>643.0</td>\n",
                            "      <td>17.0</td>\n",
                            "      <td>3</td>\n",
                            "    </tr>\n",
                            "    <tr>\n",
                            "      <th>1</th>\n",
                            "      <td>2011-339</td>\n",
                            "      <td>Brisbane</td>\n",
                            "      <td>Hard</td>\n",
                            "      <td>32</td>\n",
                            "      <td>A</td>\n",
                            "      <td>2011</td>\n",
                            "      <td>3</td>\n",
                            "      <td>105051</td>\n",
                            "      <td>Matthew Ebden</td>\n",
                            "      <td>R</td>\n",
                            "      <td>...</td>\n",
                            "      <td>6.0</td>\n",
                            "      <td>14.0</td>\n",
                            "      <td>4.0</td>\n",
                            "      <td>8.0</td>\n",
                            "      <td>196.0</td>\n",
                            "      <td>263.0</td>\n",
                            "      <td>204.0</td>\n",
                            "      <td>243.0</td>\n",
                            "      <td>8.0</td>\n",
                            "      <td>3</td>\n",
                            "    </tr>\n",
                            "    <tr>\n",
                            "      <th>2</th>\n",
                            "      <td>2011-339</td>\n",
                            "      <td>Brisbane</td>\n",
                            "      <td>Hard</td>\n",
                            "      <td>32</td>\n",
                            "      <td>A</td>\n",
                            "      <td>2011</td>\n",
                            "      <td>6</td>\n",
                            "      <td>103285</td>\n",
                            "      <td>Radek Stepanek</td>\n",
                            "      <td>R</td>\n",
                            "      <td>...</td>\n",
                            "      <td>19.0</td>\n",
                            "      <td>14.0</td>\n",
                            "      <td>5.0</td>\n",
                            "      <td>10.0</td>\n",
                            "      <td>62.0</td>\n",
                            "      <td>795.0</td>\n",
                            "      <td>67.0</td>\n",
                            "      <td>724.0</td>\n",
                            "      <td>5.0</td>\n",
                            "      <td>3</td>\n",
                            "    </tr>\n",
                            "    <tr>\n",
                            "      <th>3</th>\n",
                            "      <td>2011-339</td>\n",
                            "      <td>Brisbane</td>\n",
                            "      <td>Hard</td>\n",
                            "      <td>32</td>\n",
                            "      <td>A</td>\n",
                            "      <td>2011</td>\n",
                            "      <td>7</td>\n",
                            "      <td>105575</td>\n",
                            "      <td>Ricardas Berankis</td>\n",
                            "      <td>R</td>\n",
                            "      <td>...</td>\n",
                            "      <td>11.0</td>\n",
                            "      <td>10.0</td>\n",
                            "      <td>5.0</td>\n",
                            "      <td>9.0</td>\n",
                            "      <td>87.0</td>\n",
                            "      <td>587.0</td>\n",
                            "      <td>78.0</td>\n",
                            "      <td>627.0</td>\n",
                            "      <td>9.0</td>\n",
                            "      <td>2</td>\n",
                            "    </tr>\n",
                            "    <tr>\n",
                            "      <th>4</th>\n",
                            "      <td>2011-339</td>\n",
                            "      <td>Brisbane</td>\n",
                            "      <td>Hard</td>\n",
                            "      <td>32</td>\n",
                            "      <td>A</td>\n",
                            "      <td>2011</td>\n",
                            "      <td>10</td>\n",
                            "      <td>104731</td>\n",
                            "      <td>Kevin Anderson</td>\n",
                            "      <td>R</td>\n",
                            "      <td>...</td>\n",
                            "      <td>10.0</td>\n",
                            "      <td>10.0</td>\n",
                            "      <td>1.0</td>\n",
                            "      <td>3.0</td>\n",
                            "      <td>61.0</td>\n",
                            "      <td>813.0</td>\n",
                            "      <td>137.0</td>\n",
                            "      <td>400.0</td>\n",
                            "      <td>76.0</td>\n",
                            "      <td>2</td>\n",
                            "    </tr>\n",
                            "  </tbody>\n",
                            "</table>\n",
                            "<p>5 rows × 46 columns</p>\n",
                            "</div>"
                        ],
                        "text/plain": [
                            "  tourney_id tourney_name surface  draw_size tourney_level  tourney_date  \\\n",
                            "0   2011-339     Brisbane    Hard         32             A          2011   \n",
                            "1   2011-339     Brisbane    Hard         32             A          2011   \n",
                            "2   2011-339     Brisbane    Hard         32             A          2011   \n",
                            "3   2011-339     Brisbane    Hard         32             A          2011   \n",
                            "4   2011-339     Brisbane    Hard         32             A          2011   \n",
                            "\n",
                            "   match_num  winner_id        winner_name winner_hand  ...  l_2ndWon l_SvGms  \\\n",
                            "0          2     103582     Michael Berrer           L  ...      20.0    14.0   \n",
                            "1          3     105051      Matthew Ebden           R  ...       6.0    14.0   \n",
                            "2          6     103285     Radek Stepanek           R  ...      19.0    14.0   \n",
                            "3          7     105575  Ricardas Berankis           R  ...      11.0    10.0   \n",
                            "4         10     104731     Kevin Anderson           R  ...      10.0    10.0   \n",
                            "\n",
                            "   l_bpSaved  l_bpFaced winner_rank winner_rank_points  loser_rank  \\\n",
                            "0        3.0        5.0        58.0              835.0        75.0   \n",
                            "1        4.0        8.0       196.0              263.0       204.0   \n",
                            "2        5.0       10.0        62.0              795.0        67.0   \n",
                            "3        5.0        9.0        87.0              587.0        78.0   \n",
                            "4        1.0        3.0        61.0              813.0       137.0   \n",
                            "\n",
                            "  loser_rank_points  diff_winner_rank sets_num  \n",
                            "0             643.0              17.0        3  \n",
                            "1             243.0               8.0        3  \n",
                            "2             724.0               5.0        3  \n",
                            "3             627.0               9.0        2  \n",
                            "4             400.0              76.0        2  \n",
                            "\n",
                            "[5 rows x 46 columns]"
                        ]
                    },
                    "execution_count": 165,
                    "metadata": {},
                    "output_type": "execute_result"
                }
            ],
            "source": [
                "player_2 = pandasql.sqldf(\"\"\"\n",
                "    SELECT *\n",
                "    FROM player_year\n",
                "    WHERE winner_rank BETWEEN 50 AND 500;\"\"\")\n",
                "    \n",
                "player_2.head()"
            ]
        },
        {
            "cell_type": "code",
            "execution_count": 166,
            "metadata": {},
            "outputs": [
                {
                    "data": {
                        "text/html": [
                            "<div>\n",
                            "<style scoped>\n",
                            "    .dataframe tbody tr th:only-of-type {\n",
                            "        vertical-align: middle;\n",
                            "    }\n",
                            "\n",
                            "    .dataframe tbody tr th {\n",
                            "        vertical-align: top;\n",
                            "    }\n",
                            "\n",
                            "    .dataframe thead th {\n",
                            "        text-align: right;\n",
                            "    }\n",
                            "</style>\n",
                            "<table border=\"1\" class=\"dataframe\">\n",
                            "  <thead>\n",
                            "    <tr style=\"text-align: right;\">\n",
                            "      <th></th>\n",
                            "      <th>tourney_id</th>\n",
                            "      <th>tourney_name</th>\n",
                            "      <th>surface</th>\n",
                            "      <th>draw_size</th>\n",
                            "      <th>tourney_level</th>\n",
                            "      <th>tourney_date</th>\n",
                            "      <th>match_num</th>\n",
                            "      <th>winner_id</th>\n",
                            "      <th>winner_name</th>\n",
                            "      <th>winner_hand</th>\n",
                            "      <th>...</th>\n",
                            "      <th>l_2ndWon</th>\n",
                            "      <th>l_SvGms</th>\n",
                            "      <th>l_bpSaved</th>\n",
                            "      <th>l_bpFaced</th>\n",
                            "      <th>winner_rank</th>\n",
                            "      <th>winner_rank_points</th>\n",
                            "      <th>loser_rank</th>\n",
                            "      <th>loser_rank_points</th>\n",
                            "      <th>diff_winner_rank</th>\n",
                            "      <th>sets_num</th>\n",
                            "    </tr>\n",
                            "  </thead>\n",
                            "  <tbody>\n",
                            "    <tr>\n",
                            "      <th>0</th>\n",
                            "      <td>2011-5053</td>\n",
                            "      <td>Belgrade</td>\n",
                            "      <td>Clay</td>\n",
                            "      <td>28</td>\n",
                            "      <td>A</td>\n",
                            "      <td>2011</td>\n",
                            "      <td>8</td>\n",
                            "      <td>103602</td>\n",
                            "      <td>Fernando Gonzalez</td>\n",
                            "      <td>R</td>\n",
                            "      <td>...</td>\n",
                            "      <td>8.0</td>\n",
                            "      <td>9.0</td>\n",
                            "      <td>5.0</td>\n",
                            "      <td>11.0</td>\n",
                            "      <td>516.0</td>\n",
                            "      <td>55.0</td>\n",
                            "      <td>156.0</td>\n",
                            "      <td>377.0</td>\n",
                            "      <td>360.0</td>\n",
                            "      <td>2</td>\n",
                            "    </tr>\n",
                            "    <tr>\n",
                            "      <th>1</th>\n",
                            "      <td>2011-315</td>\n",
                            "      <td>Newport</td>\n",
                            "      <td>Grass</td>\n",
                            "      <td>32</td>\n",
                            "      <td>A</td>\n",
                            "      <td>2011</td>\n",
                            "      <td>13</td>\n",
                            "      <td>103163</td>\n",
                            "      <td>Tommy Haas</td>\n",
                            "      <td>R</td>\n",
                            "      <td>...</td>\n",
                            "      <td>17.0</td>\n",
                            "      <td>11.0</td>\n",
                            "      <td>4.0</td>\n",
                            "      <td>6.0</td>\n",
                            "      <td>728.0</td>\n",
                            "      <td>20.0</td>\n",
                            "      <td>83.0</td>\n",
                            "      <td>635.0</td>\n",
                            "      <td>645.0</td>\n",
                            "      <td>2</td>\n",
                            "    </tr>\n",
                            "    <tr>\n",
                            "      <th>2</th>\n",
                            "      <td>2011-418</td>\n",
                            "      <td>Washington</td>\n",
                            "      <td>Hard</td>\n",
                            "      <td>48</td>\n",
                            "      <td>A</td>\n",
                            "      <td>2011</td>\n",
                            "      <td>10</td>\n",
                            "      <td>103163</td>\n",
                            "      <td>Tommy Haas</td>\n",
                            "      <td>R</td>\n",
                            "      <td>...</td>\n",
                            "      <td>12.0</td>\n",
                            "      <td>8.0</td>\n",
                            "      <td>3.0</td>\n",
                            "      <td>6.0</td>\n",
                            "      <td>576.0</td>\n",
                            "      <td>40.0</td>\n",
                            "      <td>242.0</td>\n",
                            "      <td>203.0</td>\n",
                            "      <td>334.0</td>\n",
                            "      <td>2</td>\n",
                            "    </tr>\n",
                            "    <tr>\n",
                            "      <th>3</th>\n",
                            "      <td>2011-560</td>\n",
                            "      <td>US Open</td>\n",
                            "      <td>Hard</td>\n",
                            "      <td>128</td>\n",
                            "      <td>G</td>\n",
                            "      <td>2011</td>\n",
                            "      <td>51</td>\n",
                            "      <td>103444</td>\n",
                            "      <td>Jean Rene Lisnard</td>\n",
                            "      <td>R</td>\n",
                            "      <td>...</td>\n",
                            "      <td>17.0</td>\n",
                            "      <td>15.0</td>\n",
                            "      <td>9.0</td>\n",
                            "      <td>17.0</td>\n",
                            "      <td>542.0</td>\n",
                            "      <td>50.0</td>\n",
                            "      <td>77.0</td>\n",
                            "      <td>669.0</td>\n",
                            "      <td>465.0</td>\n",
                            "      <td>3</td>\n",
                            "    </tr>\n",
                            "    <tr>\n",
                            "      <th>4</th>\n",
                            "      <td>2011-560</td>\n",
                            "      <td>US Open</td>\n",
                            "      <td>Hard</td>\n",
                            "      <td>128</td>\n",
                            "      <td>G</td>\n",
                            "      <td>2011</td>\n",
                            "      <td>54</td>\n",
                            "      <td>106058</td>\n",
                            "      <td>Jack Sock</td>\n",
                            "      <td>R</td>\n",
                            "      <td>...</td>\n",
                            "      <td>27.0</td>\n",
                            "      <td>18.0</td>\n",
                            "      <td>4.0</td>\n",
                            "      <td>8.0</td>\n",
                            "      <td>555.0</td>\n",
                            "      <td>47.0</td>\n",
                            "      <td>97.0</td>\n",
                            "      <td>562.0</td>\n",
                            "      <td>458.0</td>\n",
                            "      <td>4</td>\n",
                            "    </tr>\n",
                            "  </tbody>\n",
                            "</table>\n",
                            "<p>5 rows × 46 columns</p>\n",
                            "</div>"
                        ],
                        "text/plain": [
                            "  tourney_id tourney_name surface  draw_size tourney_level  tourney_date  \\\n",
                            "0  2011-5053     Belgrade    Clay         28             A          2011   \n",
                            "1   2011-315      Newport   Grass         32             A          2011   \n",
                            "2   2011-418   Washington    Hard         48             A          2011   \n",
                            "3   2011-560      US Open    Hard        128             G          2011   \n",
                            "4   2011-560      US Open    Hard        128             G          2011   \n",
                            "\n",
                            "   match_num  winner_id        winner_name winner_hand  ...  l_2ndWon l_SvGms  \\\n",
                            "0          8     103602  Fernando Gonzalez           R  ...       8.0     9.0   \n",
                            "1         13     103163         Tommy Haas           R  ...      17.0    11.0   \n",
                            "2         10     103163         Tommy Haas           R  ...      12.0     8.0   \n",
                            "3         51     103444  Jean Rene Lisnard           R  ...      17.0    15.0   \n",
                            "4         54     106058          Jack Sock           R  ...      27.0    18.0   \n",
                            "\n",
                            "   l_bpSaved  l_bpFaced winner_rank winner_rank_points  loser_rank  \\\n",
                            "0        5.0       11.0       516.0               55.0       156.0   \n",
                            "1        4.0        6.0       728.0               20.0        83.0   \n",
                            "2        3.0        6.0       576.0               40.0       242.0   \n",
                            "3        9.0       17.0       542.0               50.0        77.0   \n",
                            "4        4.0        8.0       555.0               47.0        97.0   \n",
                            "\n",
                            "  loser_rank_points  diff_winner_rank sets_num  \n",
                            "0             377.0             360.0        2  \n",
                            "1             635.0             645.0        2  \n",
                            "2             203.0             334.0        2  \n",
                            "3             669.0             465.0        3  \n",
                            "4             562.0             458.0        4  \n",
                            "\n",
                            "[5 rows x 46 columns]"
                        ]
                    },
                    "execution_count": 166,
                    "metadata": {},
                    "output_type": "execute_result"
                }
            ],
            "source": [
                "player_3 = pandasql.sqldf(\"\"\"\n",
                "    SELECT *\n",
                "    FROM player_year\n",
                "    WHERE winner_rank > 500;\"\"\")\n",
                "    \n",
                "player_3.head()"
            ]
        },
        {
            "attachments": {},
            "cell_type": "markdown",
            "metadata": {},
            "source": [
                "Возьмем 1 игрока 3 ранга - 'Stefanos Tsitsipas'\n",
                " \n",
                " Возьмем 2 игрока 87 ранга - 'Ricardas Berankis'\n",
                " \n",
                " Возьмем 3 игрока 917 ранга - 'Marton Fucsovics'\n"
            ]
        },
        {
            "cell_type": "code",
            "execution_count": 167,
            "metadata": {},
            "outputs": [],
            "source": [
                "player_year['win_bpS/F'] = player_year['w_bpSaved'] / player_year['w_bpFaced']\n",
                "player_year['lose_bpS/F'] = player_year['l_bpSaved'] / player_year['l_bpFaced']"
            ]
        },
        {
            "cell_type": "code",
            "execution_count": 168,
            "metadata": {},
            "outputs": [
                {
                    "data": {
                        "text/plain": [
                            "2858"
                        ]
                    },
                    "execution_count": 168,
                    "metadata": {},
                    "output_type": "execute_result"
                }
            ],
            "source": [
                "player_year['win_bpS/F'].isna().sum()"
            ]
        },
        {
            "cell_type": "code",
            "execution_count": 169,
            "metadata": {},
            "outputs": [
                {
                    "data": {
                        "text/plain": [
                            "100"
                        ]
                    },
                    "execution_count": 169,
                    "metadata": {},
                    "output_type": "execute_result"
                }
            ],
            "source": [
                "player_year['lose_bpS/F'].isna().sum()"
            ]
        },
        {
            "cell_type": "code",
            "execution_count": 170,
            "metadata": {},
            "outputs": [],
            "source": [
                "values = {\n",
                "   'win_bpS/F': player_year['win_bpS/F'].mean(),\n",
                "   'lose_bpS/F': player_year['lose_bpS/F'].mean()\n",
                "}\n",
                "player_year = player_year.fillna(values)"
            ]
        },
        {
            "cell_type": "code",
            "execution_count": 171,
            "metadata": {},
            "outputs": [],
            "source": [
                "player_1 = player_year[player_year['winner_name'] == 'Stefanos Tsitsipas']\n",
                "player_2 = player_year[player_year['winner_name'] == 'Ricardas Berankis']\n",
                "player_3 = player_year[player_year['winner_name'] == 'Marton Fucsovics']"
            ]
        },
        {
            "cell_type": "code",
            "execution_count": 172,
            "metadata": {},
            "outputs": [
                {
                    "data": {
                        "text/plain": [
                            "<AxesSubplot: xlabel='tourney_date'>"
                        ]
                    },
                    "execution_count": 172,
                    "metadata": {},
                    "output_type": "execute_result"
                },
                {
                    "data": {
                        "image/png": "[encoded data removed]",
                        "text/plain": [
                            "<Figure size 640x480 with 1 Axes>"
                        ]
                    },
                    "metadata": {},
                    "output_type": "display_data"
                }
            ],
            "source": [
                "player_1_w = (\n",
                "     player_1['win_bpS/F']\n",
                "    .groupby(player_1[\"tourney_date\"])\n",
                "    .mean()\n",
                ")\n",
                "\n",
                "player_1_l = (\n",
                "     player_1['lose_bpS/F']\n",
                "    .groupby(player_1[\"tourney_date\"])\n",
                "    .mean()\n",
                ")\n",
                "\n",
                "player_1_bp = pd.merge(player_1_w, player_1_l, on='tourney_date')\n",
                "sns.lineplot(data=player_1_bp[[\"win_bpS/F\", \"lose_bpS/F\"]])"
            ]
        },
        {
            "cell_type": "code",
            "execution_count": 173,
            "metadata": {},
            "outputs": [
                {
                    "data": {
                        "text/html": [
                            "<div>\n",
                            "<style scoped>\n",
                            "    .dataframe tbody tr th:only-of-type {\n",
                            "        vertical-align: middle;\n",
                            "    }\n",
                            "\n",
                            "    .dataframe tbody tr th {\n",
                            "        vertical-align: top;\n",
                            "    }\n",
                            "\n",
                            "    .dataframe thead th {\n",
                            "        text-align: right;\n",
                            "    }\n",
                            "</style>\n",
                            "<table border=\"1\" class=\"dataframe\">\n",
                            "  <thead>\n",
                            "    <tr style=\"text-align: right;\">\n",
                            "      <th></th>\n",
                            "      <th>win_bpS/F</th>\n",
                            "      <th>lose_bpS/F</th>\n",
                            "    </tr>\n",
                            "    <tr>\n",
                            "      <th>tourney_date</th>\n",
                            "      <th></th>\n",
                            "      <th></th>\n",
                            "    </tr>\n",
                            "  </thead>\n",
                            "  <tbody>\n",
                            "    <tr>\n",
                            "      <th>2017</th>\n",
                            "      <td>0.767280</td>\n",
                            "      <td>0.496040</td>\n",
                            "    </tr>\n",
                            "    <tr>\n",
                            "      <th>2018</th>\n",
                            "      <td>0.699845</td>\n",
                            "      <td>0.444291</td>\n",
                            "    </tr>\n",
                            "    <tr>\n",
                            "      <th>2019</th>\n",
                            "      <td>0.627644</td>\n",
                            "      <td>0.553451</td>\n",
                            "    </tr>\n",
                            "    <tr>\n",
                            "      <th>2020</th>\n",
                            "      <td>0.671488</td>\n",
                            "      <td>0.559685</td>\n",
                            "    </tr>\n",
                            "    <tr>\n",
                            "      <th>2021</th>\n",
                            "      <td>0.666771</td>\n",
                            "      <td>0.495214</td>\n",
                            "    </tr>\n",
                            "  </tbody>\n",
                            "</table>\n",
                            "</div>"
                        ],
                        "text/plain": [
                            "              win_bpS/F  lose_bpS/F\n",
                            "tourney_date                       \n",
                            "2017           0.767280    0.496040\n",
                            "2018           0.699845    0.444291\n",
                            "2019           0.627644    0.553451\n",
                            "2020           0.671488    0.559685\n",
                            "2021           0.666771    0.495214"
                        ]
                    },
                    "execution_count": 173,
                    "metadata": {},
                    "output_type": "execute_result"
                }
            ],
            "source": [
                "player_1_bp"
            ]
        },
        {
            "cell_type": "code",
            "execution_count": 174,
            "metadata": {},
            "outputs": [
                {
                    "name": "stderr",
                    "output_type": "stream",
                    "text": [
                        "c:\\Users\\rinen\\AppData\\Local\\Programs\\Python\\Python39\\lib\\site-packages\\seaborn\\categorical.py:82: FutureWarning: iteritems is deprecated and will be removed in a future version. Use .items instead.\n",
                        "  plot_data = [np.asarray(s, float) for k, s in iter_data]\n"
                    ]
                },
                {
                    "data": {
                        "text/plain": [
                            "<AxesSubplot: >"
                        ]
                    },
                    "execution_count": 174,
                    "metadata": {},
                    "output_type": "execute_result"
                },
                {
                    "data": {
                        "image/png": "[encoded data removed]",
                        "text/plain": [
                            "<Figure size 640x480 with 1 Axes>"
                        ]
                    },
                    "metadata": {},
                    "output_type": "display_data"
                }
            ],
            "source": [
                "sns.boxplot(data=player_1_bp)"
            ]
        },
        {
            "cell_type": "code",
            "execution_count": 175,
            "metadata": {},
            "outputs": [
                {
                    "data": {
                        "text/plain": [
                            "Ttest_indResult(statistic=5.611449801307858, pvalue=0.0005034822673568549)"
                        ]
                    },
                    "execution_count": 175,
                    "metadata": {},
                    "output_type": "execute_result"
                }
            ],
            "source": [
                "stats.ttest_ind(player_1_bp['win_bpS/F'], player_1_bp['lose_bpS/F'])"
            ]
        },
        {
            "cell_type": "code",
            "execution_count": 176,
            "metadata": {},
            "outputs": [
                {
                    "data": {
                        "image/png": "[encoded data removed]",
                        "text/plain": [
                            "<Figure size 640x480 with 1 Axes>"
                        ]
                    },
                    "metadata": {},
                    "output_type": "display_data"
                }
            ],
            "source": [
                "player_2_w = (\n",
                "     player_2['win_bpS/F']\n",
                "    .groupby(player_2[\"tourney_date\"])\n",
                "    .mean()\n",
                ")\n",
                "\n",
                "player_2_l = (\n",
                "     player_2['lose_bpS/F']\n",
                "    .groupby(player_2[\"tourney_date\"])\n",
                "    .mean()\n",
                ")\n",
                "\n",
                "player_2_bp = pd.merge(player_2_w, player_2_l, on='tourney_date')\n",
                "sns.lineplot(data=player_2_bp[[\"win_bpS/F\", \"lose_bpS/F\"]]);"
            ]
        },
        {
            "cell_type": "code",
            "execution_count": 177,
            "metadata": {},
            "outputs": [
                {
                    "name": "stderr",
                    "output_type": "stream",
                    "text": [
                        "c:\\Users\\rinen\\AppData\\Local\\Programs\\Python\\Python39\\lib\\site-packages\\seaborn\\categorical.py:82: FutureWarning: iteritems is deprecated and will be removed in a future version. Use .items instead.\n",
                        "  plot_data = [np.asarray(s, float) for k, s in iter_data]\n"
                    ]
                },
                {
                    "data": {
                        "text/plain": [
                            "<AxesSubplot: >"
                        ]
                    },
                    "execution_count": 177,
                    "metadata": {},
                    "output_type": "execute_result"
                },
                {
                    "data": {
                        "image/png": "[encoded data removed]",
                        "text/plain": [
                            "<Figure size 640x480 with 1 Axes>"
                        ]
                    },
                    "metadata": {},
                    "output_type": "display_data"
                }
            ],
            "source": [
                "sns.boxplot(data=player_2_bp)"
            ]
        },
        {
            "cell_type": "code",
            "execution_count": 178,
            "metadata": {},
            "outputs": [
                {
                    "data": {
                        "text/plain": [
                            "Ttest_indResult(statistic=6.120985959353489, pvalue=5.559379225452307e-06)"
                        ]
                    },
                    "execution_count": 178,
                    "metadata": {},
                    "output_type": "execute_result"
                }
            ],
            "source": [
                "stats.ttest_ind(player_2_bp['win_bpS/F'], player_2_bp['lose_bpS/F'])"
            ]
        },
        {
            "cell_type": "code",
            "execution_count": 179,
            "metadata": {},
            "outputs": [
                {
                    "data": {
                        "image/png": "[encoded data removed]",
                        "text/plain": [
                            "<Figure size 640x480 with 1 Axes>"
                        ]
                    },
                    "metadata": {},
                    "output_type": "display_data"
                }
            ],
            "source": [
                "player_3_w = (\n",
                "     player_3['win_bpS/F']\n",
                "    .groupby(player_3[\"tourney_date\"])\n",
                "    .mean()\n",
                ")\n",
                "\n",
                "player_3_l = (\n",
                "     player_3['lose_bpS/F']\n",
                "    .groupby(player_3[\"tourney_date\"])\n",
                "    .mean()\n",
                ")\n",
                "\n",
                "player_3_bp = pd.merge(player_3_w, player_3_l, on='tourney_date')\n",
                "sns.lineplot(data=player_3_bp[[\"win_bpS/F\", \"lose_bpS/F\"]]);"
            ]
        },
        {
            "cell_type": "code",
            "execution_count": 180,
            "metadata": {},
            "outputs": [
                {
                    "name": "stderr",
                    "output_type": "stream",
                    "text": [
                        "c:\\Users\\rinen\\AppData\\Local\\Programs\\Python\\Python39\\lib\\site-packages\\seaborn\\categorical.py:82: FutureWarning: iteritems is deprecated and will be removed in a future version. Use .items instead.\n",
                        "  plot_data = [np.asarray(s, float) for k, s in iter_data]\n"
                    ]
                },
                {
                    "data": {
                        "text/plain": [
                            "<AxesSubplot: >"
                        ]
                    },
                    "execution_count": 180,
                    "metadata": {},
                    "output_type": "execute_result"
                },
                {
                    "data": {
                        "image/png": "[encoded data removed]",
                        "text/plain": [
                            "<Figure size 640x480 with 1 Axes>"
                        ]
                    },
                    "metadata": {},
                    "output_type": "display_data"
                }
            ],
            "source": [
                "sns.boxplot(data=player_3_bp)"
            ]
        },
        {
            "cell_type": "code",
            "execution_count": 181,
            "metadata": {},
            "outputs": [
                {
                    "data": {
                        "text/plain": [
                            "Ttest_indResult(statistic=5.618269641367509, pvalue=0.00011281539864748304)"
                        ]
                    },
                    "execution_count": 181,
                    "metadata": {},
                    "output_type": "execute_result"
                }
            ],
            "source": [
                "stats.ttest_ind(player_3_bp['win_bpS/F'], player_3_bp['lose_bpS/F'])"
            ]
        },
        {
            "attachments": {},
            "cell_type": "markdown",
            "metadata": {},
            "source": [
                "У вас есть гипотеза, что доля выигранных брейк-поинтов связана с вероятностью победить в игре. Соберите статистику, где для каждого матча будет собран его исход (победа/поражение) и доля выигранных брейк-поинтов (не забудьте, что в матче два игрока). Разделите долю выигранных брейкпоинтов на группы выше/ниже медианы и, используя информацию о исходе матча, проверьте зависимость между количеством выигранных брейкпоинтов и результатом матча. Насколько сильна эта зависимость? Выбор статистического теста обоснуйте."
            ]
        },
        {
            "cell_type": "code",
            "execution_count": 182,
            "metadata": {},
            "outputs": [],
            "source": [
                "atp_matches['win_bpS/F'] = atp_matches['w_bpSaved'] / atp_matches['w_bpFaced']\n",
                "atp_matches['lose_bpS/F'] = atp_matches['l_bpSaved'] / atp_matches['l_bpFaced']"
            ]
        },
        {
            "cell_type": "code",
            "execution_count": 183,
            "metadata": {},
            "outputs": [],
            "source": [
                "values = {\n",
                "   'win_bpS/F': atp_matches['win_bpS/F'].mean(),\n",
                "   'lose_bpS/F': atp_matches['lose_bpS/F'].mean()\n",
                "}\n",
                "atp_matches = atp_matches.fillna(values)"
            ]
        },
        {
            "cell_type": "code",
            "execution_count": 184,
            "metadata": {},
            "outputs": [
                {
                    "data": {
                        "text/plain": [
                            "0"
                        ]
                    },
                    "execution_count": 184,
                    "metadata": {},
                    "output_type": "execute_result"
                }
            ],
            "source": [
                "atp_matches['win_bpS/F'].isna().sum()"
            ]
        },
        {
            "cell_type": "code",
            "execution_count": 185,
            "metadata": {},
            "outputs": [
                {
                    "data": {
                        "text/plain": [
                            "0"
                        ]
                    },
                    "execution_count": 185,
                    "metadata": {},
                    "output_type": "execute_result"
                }
            ],
            "source": [
                "atp_matches['lose_bpS/F'].isna().sum()"
            ]
        },
        {
            "cell_type": "code",
            "execution_count": 186,
            "metadata": {},
            "outputs": [],
            "source": [
                "Marton = atp_matches.loc[\n",
                "    (atp_matches['winner_name'] == 'Marton Fucsovics') \n",
                "    | (atp_matches['loser_name'] == 'Marton Fucsovics')\n",
                "].copy()\n",
                "Marton_win = atp_matches.loc[atp_matches['winner_name'] == 'Marton Fucsovics'].copy()\n",
                "Marton_loss = atp_matches.loc[atp_matches['loser_name'] == 'Marton Fucsovics'].copy()"
            ]
        },
        {
            "cell_type": "code",
            "execution_count": 187,
            "metadata": {},
            "outputs": [
                {
                    "data": {
                        "text/plain": [
                            "2168    False\n",
                            "2442     True\n",
                            "2502     True\n",
                            "2774    False\n",
                            "2775     True\n",
                            "Name: win_greater, dtype: bool"
                        ]
                    },
                    "execution_count": 187,
                    "metadata": {},
                    "output_type": "execute_result"
                }
            ],
            "source": [
                "Marton['win_greater'] = Marton[\"win_bpS/F\"] > Marton[\"win_bpS/F\"].median()\n",
                "Marton['win_greater'].tail()"
            ]
        },
        {
            "cell_type": "code",
            "execution_count": 188,
            "metadata": {},
            "outputs": [],
            "source": [
                "bp_win = pd.concat(\n",
                "    [(Marton_win['win_bpS/F']).reset_index(drop=True),\n",
                "    pd.Series(np.ones_like(Marton_win['win_bpS/F']), name='win')],\n",
                "    axis=1\n",
                ")\n",
                "\n",
                "bp_lose = pd.concat([\n",
                "    (Marton_loss['win_bpS/F']).reset_index(drop=True),\n",
                "    pd.Series(np.zeros_like(Marton_loss['win_bpS/F']),name='win')],\n",
                "    axis=1\n",
                ")"
            ]
        },
        {
            "cell_type": "code",
            "execution_count": 189,
            "metadata": {},
            "outputs": [],
            "source": [
                "bp_win_lose = pd.concat([bp_win, bp_lose])"
            ]
        },
        {
            "cell_type": "code",
            "execution_count": 190,
            "metadata": {},
            "outputs": [
                {
                    "data": {
                        "text/html": [
                            "<div>\n",
                            "<style scoped>\n",
                            "    .dataframe tbody tr th:only-of-type {\n",
                            "        vertical-align: middle;\n",
                            "    }\n",
                            "\n",
                            "    .dataframe tbody tr th {\n",
                            "        vertical-align: top;\n",
                            "    }\n",
                            "\n",
                            "    .dataframe thead th {\n",
                            "        text-align: right;\n",
                            "    }\n",
                            "</style>\n",
                            "<table border=\"1\" class=\"dataframe\">\n",
                            "  <thead>\n",
                            "    <tr style=\"text-align: right;\">\n",
                            "      <th></th>\n",
                            "      <th>win_bpS/F</th>\n",
                            "      <th>win</th>\n",
                            "    </tr>\n",
                            "  </thead>\n",
                            "  <tbody>\n",
                            "    <tr>\n",
                            "      <th>0</th>\n",
                            "      <td>0.666667</td>\n",
                            "      <td>1.0</td>\n",
                            "    </tr>\n",
                            "    <tr>\n",
                            "      <th>1</th>\n",
                            "      <td>0.571429</td>\n",
                            "      <td>1.0</td>\n",
                            "    </tr>\n",
                            "    <tr>\n",
                            "      <th>2</th>\n",
                            "      <td>0.571429</td>\n",
                            "      <td>1.0</td>\n",
                            "    </tr>\n",
                            "    <tr>\n",
                            "      <th>3</th>\n",
                            "      <td>0.750000</td>\n",
                            "      <td>1.0</td>\n",
                            "    </tr>\n",
                            "    <tr>\n",
                            "      <th>4</th>\n",
                            "      <td>0.714286</td>\n",
                            "      <td>1.0</td>\n",
                            "    </tr>\n",
                            "    <tr>\n",
                            "      <th>...</th>\n",
                            "      <td>...</td>\n",
                            "      <td>...</td>\n",
                            "    </tr>\n",
                            "    <tr>\n",
                            "      <th>112</th>\n",
                            "      <td>0.400000</td>\n",
                            "      <td>0.0</td>\n",
                            "    </tr>\n",
                            "    <tr>\n",
                            "      <th>113</th>\n",
                            "      <td>0.500000</td>\n",
                            "      <td>0.0</td>\n",
                            "    </tr>\n",
                            "    <tr>\n",
                            "      <th>114</th>\n",
                            "      <td>0.750000</td>\n",
                            "      <td>0.0</td>\n",
                            "    </tr>\n",
                            "    <tr>\n",
                            "      <th>115</th>\n",
                            "      <td>0.750000</td>\n",
                            "      <td>0.0</td>\n",
                            "    </tr>\n",
                            "    <tr>\n",
                            "      <th>116</th>\n",
                            "      <td>0.750000</td>\n",
                            "      <td>0.0</td>\n",
                            "    </tr>\n",
                            "  </tbody>\n",
                            "</table>\n",
                            "<p>228 rows × 2 columns</p>\n",
                            "</div>"
                        ],
                        "text/plain": [
                            "     win_bpS/F  win\n",
                            "0     0.666667  1.0\n",
                            "1     0.571429  1.0\n",
                            "2     0.571429  1.0\n",
                            "3     0.750000  1.0\n",
                            "4     0.714286  1.0\n",
                            "..         ...  ...\n",
                            "112   0.400000  0.0\n",
                            "113   0.500000  0.0\n",
                            "114   0.750000  0.0\n",
                            "115   0.750000  0.0\n",
                            "116   0.750000  0.0\n",
                            "\n",
                            "[228 rows x 2 columns]"
                        ]
                    },
                    "execution_count": 190,
                    "metadata": {},
                    "output_type": "execute_result"
                }
            ],
            "source": [
                "bp_win_lose = bp_win_lose.rename(columns={0:'bp_Saved'})\n",
                "bp_win_lose"
            ]
        },
        {
            "cell_type": "code",
            "execution_count": 191,
            "metadata": {},
            "outputs": [],
            "source": [
                "bp_win_lose['win_greater'] = bp_win_lose[\"win_bpS/F\"] > Marton[\"win_bpS/F\"].median()"
            ]
        },
        {
            "cell_type": "code",
            "execution_count": 192,
            "metadata": {},
            "outputs": [
                {
                    "data": {
                        "text/html": [
                            "<div>\n",
                            "<style scoped>\n",
                            "    .dataframe tbody tr th:only-of-type {\n",
                            "        vertical-align: middle;\n",
                            "    }\n",
                            "\n",
                            "    .dataframe tbody tr th {\n",
                            "        vertical-align: top;\n",
                            "    }\n",
                            "\n",
                            "    .dataframe thead th {\n",
                            "        text-align: right;\n",
                            "    }\n",
                            "</style>\n",
                            "<table border=\"1\" class=\"dataframe\">\n",
                            "  <thead>\n",
                            "    <tr style=\"text-align: right;\">\n",
                            "      <th></th>\n",
                            "      <th>win_bpS/F</th>\n",
                            "      <th>win</th>\n",
                            "      <th>win_greater</th>\n",
                            "    </tr>\n",
                            "  </thead>\n",
                            "  <tbody>\n",
                            "    <tr>\n",
                            "      <th>0</th>\n",
                            "      <td>0.666667</td>\n",
                            "      <td>1.0</td>\n",
                            "      <td>False</td>\n",
                            "    </tr>\n",
                            "    <tr>\n",
                            "      <th>1</th>\n",
                            "      <td>0.571429</td>\n",
                            "      <td>1.0</td>\n",
                            "      <td>False</td>\n",
                            "    </tr>\n",
                            "    <tr>\n",
                            "      <th>2</th>\n",
                            "      <td>0.571429</td>\n",
                            "      <td>1.0</td>\n",
                            "      <td>False</td>\n",
                            "    </tr>\n",
                            "    <tr>\n",
                            "      <th>3</th>\n",
                            "      <td>0.750000</td>\n",
                            "      <td>1.0</td>\n",
                            "      <td>True</td>\n",
                            "    </tr>\n",
                            "    <tr>\n",
                            "      <th>4</th>\n",
                            "      <td>0.714286</td>\n",
                            "      <td>1.0</td>\n",
                            "      <td>True</td>\n",
                            "    </tr>\n",
                            "    <tr>\n",
                            "      <th>...</th>\n",
                            "      <td>...</td>\n",
                            "      <td>...</td>\n",
                            "      <td>...</td>\n",
                            "    </tr>\n",
                            "    <tr>\n",
                            "      <th>112</th>\n",
                            "      <td>0.400000</td>\n",
                            "      <td>0.0</td>\n",
                            "      <td>False</td>\n",
                            "    </tr>\n",
                            "    <tr>\n",
                            "      <th>113</th>\n",
                            "      <td>0.500000</td>\n",
                            "      <td>0.0</td>\n",
                            "      <td>False</td>\n",
                            "    </tr>\n",
                            "    <tr>\n",
                            "      <th>114</th>\n",
                            "      <td>0.750000</td>\n",
                            "      <td>0.0</td>\n",
                            "      <td>True</td>\n",
                            "    </tr>\n",
                            "    <tr>\n",
                            "      <th>115</th>\n",
                            "      <td>0.750000</td>\n",
                            "      <td>0.0</td>\n",
                            "      <td>True</td>\n",
                            "    </tr>\n",
                            "    <tr>\n",
                            "      <th>116</th>\n",
                            "      <td>0.750000</td>\n",
                            "      <td>0.0</td>\n",
                            "      <td>True</td>\n",
                            "    </tr>\n",
                            "  </tbody>\n",
                            "</table>\n",
                            "<p>228 rows × 3 columns</p>\n",
                            "</div>"
                        ],
                        "text/plain": [
                            "     win_bpS/F  win  win_greater\n",
                            "0     0.666667  1.0        False\n",
                            "1     0.571429  1.0        False\n",
                            "2     0.571429  1.0        False\n",
                            "3     0.750000  1.0         True\n",
                            "4     0.714286  1.0         True\n",
                            "..         ...  ...          ...\n",
                            "112   0.400000  0.0        False\n",
                            "113   0.500000  0.0        False\n",
                            "114   0.750000  0.0         True\n",
                            "115   0.750000  0.0         True\n",
                            "116   0.750000  0.0         True\n",
                            "\n",
                            "[228 rows x 3 columns]"
                        ]
                    },
                    "execution_count": 192,
                    "metadata": {},
                    "output_type": "execute_result"
                }
            ],
            "source": [
                "bp_win_lose"
            ]
        },
        {
            "cell_type": "code",
            "execution_count": 193,
            "metadata": {},
            "outputs": [
                {
                    "data": {
                        "text/plain": [
                            "<AxesSubplot: xlabel='win', ylabel='win_bpS/F'>"
                        ]
                    },
                    "execution_count": 193,
                    "metadata": {},
                    "output_type": "execute_result"
                },
                {
                    "data": {
                        "image/png": "[encoded data removed]",
                        "text/plain": [
                            "<Figure size 640x480 with 1 Axes>"
                        ]
                    },
                    "metadata": {},
                    "output_type": "display_data"
                }
            ],
            "source": [
                "sns.boxplot(data=bp_win_lose, x='win', y='win_bpS/F')"
            ]
        },
        {
            "cell_type": "code",
            "execution_count": 194,
            "metadata": {},
            "outputs": [
                {
                    "data": {
                        "text/html": [
                            "<div>\n",
                            "<style scoped>\n",
                            "    .dataframe tbody tr th:only-of-type {\n",
                            "        vertical-align: middle;\n",
                            "    }\n",
                            "\n",
                            "    .dataframe tbody tr th {\n",
                            "        vertical-align: top;\n",
                            "    }\n",
                            "\n",
                            "    .dataframe thead th {\n",
                            "        text-align: right;\n",
                            "    }\n",
                            "</style>\n",
                            "<table border=\"1\" class=\"dataframe\">\n",
                            "  <thead>\n",
                            "    <tr style=\"text-align: right;\">\n",
                            "      <th>win_greater</th>\n",
                            "      <th>False</th>\n",
                            "      <th>True</th>\n",
                            "    </tr>\n",
                            "    <tr>\n",
                            "      <th>win</th>\n",
                            "      <th></th>\n",
                            "      <th></th>\n",
                            "    </tr>\n",
                            "  </thead>\n",
                            "  <tbody>\n",
                            "    <tr>\n",
                            "      <th>False</th>\n",
                            "      <td>60</td>\n",
                            "      <td>57</td>\n",
                            "    </tr>\n",
                            "    <tr>\n",
                            "      <th>True</th>\n",
                            "      <td>64</td>\n",
                            "      <td>47</td>\n",
                            "    </tr>\n",
                            "  </tbody>\n",
                            "</table>\n",
                            "</div>"
                        ],
                        "text/plain": [
                            "win_greater  False  True \n",
                            "win                      \n",
                            "False           60     57\n",
                            "True            64     47"
                        ]
                    },
                    "execution_count": 194,
                    "metadata": {},
                    "output_type": "execute_result"
                }
            ],
            "source": [
                "pd.crosstab(bp_win_lose[\"win\"].astype(bool), bp_win_lose['win_greater'])"
            ]
        },
        {
            "cell_type": "code",
            "execution_count": 195,
            "metadata": {},
            "outputs": [
                {
                    "data": {
                        "text/plain": [
                            "(0.6940126803650363,\n",
                            " 0.40480286371396523,\n",
                            " 1,\n",
                            " array([[63.63157895, 53.36842105],\n",
                            "        [60.36842105, 50.63157895]]))"
                        ]
                    },
                    "execution_count": 195,
                    "metadata": {},
                    "output_type": "execute_result"
                }
            ],
            "source": [
                "stats.chi2_contingency(\n",
                "    pd.crosstab(bp_win_lose[\"win\"].astype(bool),\n",
                "    bp_win_lose['win_greater'])\n",
                ")"
            ]
        },
        {
            "cell_type": "code",
            "execution_count": 196,
            "metadata": {},
            "outputs": [],
            "source": [
                "chisq_stats = stats.chi2_contingency(\n",
                "    pd.crosstab(bp_win_lose[\"win\"].astype(bool),\n",
                "    bp_win_lose['win_greater']),correction=False\n",
                ")[0]"
            ]
        },
        {
            "cell_type": "code",
            "execution_count": 197,
            "metadata": {},
            "outputs": [],
            "source": [
                "n = np.sum(pd.crosstab(bp_win_lose[\"win\"].astype(bool), bp_win_lose['win_greater']))"
            ]
        },
        {
            "cell_type": "code",
            "execution_count": 198,
            "metadata": {},
            "outputs": [],
            "source": [
                "n = n.sum()"
            ]
        },
        {
            "cell_type": "code",
            "execution_count": 199,
            "metadata": {},
            "outputs": [],
            "source": [
                "minshape = min(pd.crosstab(bp_win_lose[\"win\"].astype(bool), bp_win_lose['win_greater']).shape)-1"
            ]
        },
        {
            "cell_type": "code",
            "execution_count": 200,
            "metadata": {},
            "outputs": [
                {
                    "data": {
                        "text/plain": [
                            "0.06398061410971642"
                        ]
                    },
                    "execution_count": 200,
                    "metadata": {},
                    "output_type": "execute_result"
                }
            ],
            "source": [
                "cramer = np.sqrt((chisq_stats/n)/minshape)\n",
                "cramer"
            ]
        },
        {
            "attachments": {},
            "cell_type": "markdown",
            "metadata": {},
            "source": [
                "Немного странные выводы, думаю не совсем правильно сделана выборка. Судя по данным - такой взаимосвязи нет."
            ]
        }
    ],
    "metadata": {
        "kernelspec": {
            "display_name": "Python 3",
            "language": "python",
            "name": "python3"
        },
        "language_info": {
            "codemirror_mode": {
                "name": "ipython",
                "version": 3
            },
            "file_extension": ".py",
            "mimetype": "text/x-python",
            "name": "python",
            "nbconvert_exporter": "python",
            "pygments_lexer": "ipython3",
            "version": "3.9.10"
        },
        "orig_nbformat": 4,
        "vscode": {
            "interpreter": {
                "hash": "94bd8c2ea60a909169070ae558e2dc216d7fabb7ff0aed7a37043b73aa4b03a8"
            }
        }
    },
    "nbformat": 4,
    "nbformat_minor": 2
}
